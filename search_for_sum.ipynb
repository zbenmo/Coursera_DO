{
 "cells": [
  {
   "cell_type": "code",
   "execution_count": 2,
   "id": "d832c89c-aec7-4112-93a1-d6d88a322cd9",
   "metadata": {},
   "outputs": [],
   "source": [
    "variables = [\n",
    "    [2, 4, 5],\n",
    "    [7, 8],\n",
    "    [4, 8, 10],\n",
    "]"
   ]
  },
  {
   "cell_type": "code",
   "execution_count": 3,
   "id": "627d4934-ef6f-4f8e-864f-562516c4c9a7",
   "metadata": {},
   "outputs": [],
   "source": [
    "target = 21"
   ]
  },
  {
   "cell_type": "code",
   "execution_count": 5,
   "id": "f3a7dd48-3646-40c1-b3a9-2d13f6088e67",
   "metadata": {},
   "outputs": [],
   "source": [
    "assert variables[0][1] + variables[1][0] + variables[2][2] == target"
   ]
  },
  {
   "cell_type": "code",
   "execution_count": 10,
   "id": "f99aff74-d269-4c7e-86b3-f28bfdc7ef39",
   "metadata": {},
   "outputs": [],
   "source": [
    "def all_options(variables):\n",
    "    if len(variables) < 1:\n",
    "        yield []\n",
    "        return\n",
    "    for x in variables[0]:\n",
    "        for op in all_options(variables[1:]):\n",
    "            yield [x] + op"
   ]
  },
  {
   "cell_type": "code",
   "execution_count": 11,
   "id": "caeaad07-0403-48ed-a7fd-0750bddda11c",
   "metadata": {},
   "outputs": [
    {
     "data": {
      "text/plain": [
       "[[2, 7, 4],\n",
       " [2, 7, 8],\n",
       " [2, 7, 10],\n",
       " [2, 8, 4],\n",
       " [2, 8, 8],\n",
       " [2, 8, 10],\n",
       " [4, 7, 4],\n",
       " [4, 7, 8],\n",
       " [4, 7, 10],\n",
       " [4, 8, 4],\n",
       " [4, 8, 8],\n",
       " [4, 8, 10],\n",
       " [5, 7, 4],\n",
       " [5, 7, 8],\n",
       " [5, 7, 10],\n",
       " [5, 8, 4],\n",
       " [5, 8, 8],\n",
       " [5, 8, 10]]"
      ]
     },
     "execution_count": 11,
     "metadata": {},
     "output_type": "execute_result"
    }
   ],
   "source": [
    "list(all_options(variables))"
   ]
  },
  {
   "cell_type": "code",
   "execution_count": 12,
   "id": "4158ddd5-402b-4183-86e4-7c8ebbe99388",
   "metadata": {},
   "outputs": [],
   "source": [
    "from itertools import product"
   ]
  },
  {
   "cell_type": "code",
   "execution_count": 14,
   "id": "1dbd9e6b-9688-47a7-8024-b21b084a7d2a",
   "metadata": {},
   "outputs": [
    {
     "data": {
      "text/plain": [
       "[(2, 7, 4),\n",
       " (2, 7, 8),\n",
       " (2, 7, 10),\n",
       " (2, 8, 4),\n",
       " (2, 8, 8),\n",
       " (2, 8, 10),\n",
       " (4, 7, 4),\n",
       " (4, 7, 8),\n",
       " (4, 7, 10),\n",
       " (4, 8, 4),\n",
       " (4, 8, 8),\n",
       " (4, 8, 10),\n",
       " (5, 7, 4),\n",
       " (5, 7, 8),\n",
       " (5, 7, 10),\n",
       " (5, 8, 4),\n",
       " (5, 8, 8),\n",
       " (5, 8, 10)]"
      ]
     },
     "execution_count": 14,
     "metadata": {},
     "output_type": "execute_result"
    }
   ],
   "source": [
    "list(product(*variables))"
   ]
  },
  {
   "cell_type": "code",
   "execution_count": 15,
   "id": "8d32bc6f-ab32-4b52-bc81-58084e526ec5",
   "metadata": {},
   "outputs": [
    {
     "name": "stdout",
     "output_type": "stream",
     "text": [
      "(4, 7, 10)\n",
      "(5, 8, 8)\n"
     ]
    }
   ],
   "source": [
    "for option in product(*variables):\n",
    "    if sum(option) == target:\n",
    "        print(option)"
   ]
  },
  {
   "cell_type": "code",
   "execution_count": 40,
   "id": "a93ead0c-914c-4d21-82b8-d8ef9d00d324",
   "metadata": {},
   "outputs": [],
   "source": [
    "def solve(variables, target):\n",
    "\n",
    "    def all_options2(prev, variables):\n",
    "        if len(variables) < 1:\n",
    "            # if sum(prev) == target:\n",
    "            yield prev\n",
    "            return\n",
    "        for x in variables[0]:\n",
    "            till_now = prev + [x]\n",
    "            if sum(till_now) <= target:\n",
    "                yield from all_options2(till_now, variables[1:])\n",
    "\n",
    "    yield from all_options2([], variables)"
   ]
  },
  {
   "cell_type": "code",
   "execution_count": 50,
   "id": "d48b73ca-3e81-4bcc-b153-f0b5aa2a2196",
   "metadata": {},
   "outputs": [
    {
     "name": "stdout",
     "output_type": "stream",
     "text": [
      "op=[2, 7, 4], sum(op)=13, False\n",
      "op=[2, 8, 4], sum(op)=14, False\n",
      "op=[4, 7, 4], sum(op)=15, False\n",
      "op=[4, 8, 4], sum(op)=16, True\n",
      "op=[5, 7, 4], sum(op)=16, True\n"
     ]
    }
   ],
   "source": [
    "the_target = 16\n",
    "\n",
    "for op in solve(variables, the_target):\n",
    "    print(f'{op=}, {sum(op)=}, {sum(op) == the_target}')"
   ]
  },
  {
   "cell_type": "code",
   "execution_count": null,
   "id": "f15ae7c2-216a-4682-8aaf-19cbab1b182a",
   "metadata": {},
   "outputs": [],
   "source": []
  }
 ],
 "metadata": {
  "kernelspec": {
   "display_name": "Python 3 (ipykernel)",
   "language": "python",
   "name": "python3"
  },
  "language_info": {
   "codemirror_mode": {
    "name": "ipython",
    "version": 3
   },
   "file_extension": ".py",
   "mimetype": "text/x-python",
   "name": "python",
   "nbconvert_exporter": "python",
   "pygments_lexer": "ipython3",
   "version": "3.8.10"
  }
 },
 "nbformat": 4,
 "nbformat_minor": 5
}
