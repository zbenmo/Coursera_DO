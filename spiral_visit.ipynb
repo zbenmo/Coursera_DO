{
 "cells": [
  {
   "cell_type": "code",
   "execution_count": 1,
   "id": "998aa3fc-dc0f-4b55-8d06-e3051c9ea3eb",
   "metadata": {},
   "outputs": [],
   "source": [
    "import numpy as np"
   ]
  },
  {
   "cell_type": "code",
   "execution_count": 3,
   "id": "dc72443e-fed1-4057-b780-26ae4fb65d11",
   "metadata": {},
   "outputs": [],
   "source": [
    "mat = np.array(range(81)).reshape((9, -1))"
   ]
  },
  {
   "cell_type": "code",
   "execution_count": 4,
   "id": "711dad83-dc99-4cd9-9499-234b68b2e3be",
   "metadata": {},
   "outputs": [
    {
     "data": {
      "text/plain": [
       "array([[ 0,  1,  2,  3,  4,  5,  6,  7,  8],\n",
       "       [ 9, 10, 11, 12, 13, 14, 15, 16, 17],\n",
       "       [18, 19, 20, 21, 22, 23, 24, 25, 26],\n",
       "       [27, 28, 29, 30, 31, 32, 33, 34, 35],\n",
       "       [36, 37, 38, 39, 40, 41, 42, 43, 44],\n",
       "       [45, 46, 47, 48, 49, 50, 51, 52, 53],\n",
       "       [54, 55, 56, 57, 58, 59, 60, 61, 62],\n",
       "       [63, 64, 65, 66, 67, 68, 69, 70, 71],\n",
       "       [72, 73, 74, 75, 76, 77, 78, 79, 80]])"
      ]
     },
     "execution_count": 4,
     "metadata": {},
     "output_type": "execute_result"
    }
   ],
   "source": [
    "mat"
   ]
  },
  {
   "cell_type": "code",
   "execution_count": 8,
   "id": "d91af4cb-fffc-4f46-8ccc-dc63fec4d614",
   "metadata": {},
   "outputs": [
    {
     "data": {
      "text/plain": [
       "array([[73, 65, 57, 49, 41, 33, 25, 17,  9],\n",
       "       [74, 66, 58, 50, 42, 34, 26, 18, 10],\n",
       "       [75, 67, 59, 51, 43, 35, 27, 19, 11],\n",
       "       [76, 68, 60, 52, 44, 36, 28, 20, 12],\n",
       "       [77, 69, 61, 53, 45, 37, 29, 21, 13],\n",
       "       [78, 70, 62, 54, 46, 38, 30, 22, 14],\n",
       "       [79, 71, 63, 55, 47, 39, 31, 23, 15],\n",
       "       [80, 72, 64, 56, 48, 40, 32, 24, 16]])"
      ]
     },
     "execution_count": 8,
     "metadata": {},
     "output_type": "execute_result"
    }
   ],
   "source": [
    "np.rot90(mat[1:, :].reshape((-1, 8)), k=3)"
   ]
  },
  {
   "cell_type": "code",
   "execution_count": 11,
   "id": "736a96bb-5ebb-4096-aeab-16d0a2a0ed86",
   "metadata": {},
   "outputs": [
    {
     "data": {
      "text/plain": [
       "array([[ 0,  1,  2,  3,  4,  5,  6,  7,  8],\n",
       "       [73, 65, 57, 49, 41, 33, 25, 17,  9],\n",
       "       [74, 66, 58, 50, 42, 34, 26, 18, 10],\n",
       "       [75, 67, 59, 51, 43, 35, 27, 19, 11],\n",
       "       [76, 68, 60, 52, 44, 36, 28, 20, 12],\n",
       "       [77, 69, 61, 53, 45, 37, 29, 21, 13],\n",
       "       [78, 70, 62, 54, 46, 38, 30, 22, 14],\n",
       "       [79, 71, 63, 55, 47, 39, 31, 23, 15],\n",
       "       [80, 72, 64, 56, 48, 40, 32, 24, 16]])"
      ]
     },
     "execution_count": 11,
     "metadata": {},
     "output_type": "execute_result"
    }
   ],
   "source": [
    "np.concatenate([mat[0:1,:], np.rot90(mat[1:, :].reshape((-1, 8)), k=3)])"
   ]
  },
  {
   "cell_type": "code",
   "execution_count": 32,
   "id": "a4fb326b-791a-49cd-a049-abfdae501a06",
   "metadata": {},
   "outputs": [],
   "source": [
    "def spiral_visit(mat):\n",
    "    rows, cols = mat.shape\n",
    "    if rows < 1 or cols < 1:\n",
    "        return mat\n",
    "    top_row = mat[0:1, :]\n",
    "    rest = mat[1:, :]\n",
    "    assert rest.shape == (rows - 1, cols), f'{rest.shape=}'\n",
    "    rest = np.rot90(rest.reshape(-1, cols - 1), k=3)\n",
    "    right_col = rest[:, -1:]\n",
    "    rest = rest[:, :-1]\n",
    "    assert rest.shape == (rows - 1, cols - 1), f'{rest.shape=}'\n",
    "    rest = np.rot90(rest, k=3)\n",
    "    bottom_row = mat[-1:, :]\n",
    "    rest = mat[:-1, :].reshape((cols - 1, rows - 1))\n",
    "    assert rest.shape == (rows - 2, cols - 1), f'{rest.shape=}'\n",
    "    rest = np.rot90(rest.reshape(rows - 2, -1), k=3)\n",
    "    left_col = mat[:, 0:1]\n",
    "    rest = mat[:, :1]\n",
    "    rest = np.rot90(rest, k=3)\n",
    "    assert rest.shape == (rows - 2, cols - 2), f'{rest.shape=}'\n",
    "    rest = spiral_visit(rest)\n",
    "\n",
    "    rest = np.concatenate([left_col, rest], axis=1)\n",
    "    rest = np.concatenate([rest, bottom_row], axis=0)\n",
    "    rest = np.concatenate([rest, right_col], axis=1)\n",
    "    rest = np.concatenate([top_row, rest], axis=0)\n",
    "    return rest"
   ]
  },
  {
   "cell_type": "code",
   "execution_count": 33,
   "id": "1e05f5bc-3cbc-434f-9e20-02920f922263",
   "metadata": {},
   "outputs": [
    {
     "data": {
      "text/plain": [
       "array([[ 0,  1,  2,  3,  4,  5,  6,  7,  8],\n",
       "       [ 9, 10, 11, 12, 13, 14, 15, 16, 17],\n",
       "       [18, 19, 20, 21, 22, 23, 24, 25, 26],\n",
       "       [27, 28, 29, 30, 31, 32, 33, 34, 35],\n",
       "       [36, 37, 38, 39, 40, 41, 42, 43, 44],\n",
       "       [45, 46, 47, 48, 49, 50, 51, 52, 53],\n",
       "       [54, 55, 56, 57, 58, 59, 60, 61, 62],\n",
       "       [63, 64, 65, 66, 67, 68, 69, 70, 71],\n",
       "       [72, 73, 74, 75, 76, 77, 78, 79, 80]])"
      ]
     },
     "execution_count": 33,
     "metadata": {},
     "output_type": "execute_result"
    }
   ],
   "source": [
    "mat"
   ]
  },
  {
   "cell_type": "code",
   "execution_count": 34,
   "id": "90a438b5-46f2-49a3-b598-b217abd614b1",
   "metadata": {},
   "outputs": [
    {
     "ename": "ValueError",
     "evalue": "cannot reshape array of size 72 into shape (8,8)",
     "output_type": "error",
     "traceback": [
      "\u001b[0;31m---------------------------------------------------------------------------\u001b[0m",
      "\u001b[0;31mValueError\u001b[0m                                Traceback (most recent call last)",
      "Cell \u001b[0;32mIn[34], line 1\u001b[0m\n\u001b[0;32m----> 1\u001b[0m \u001b[43mspiral_visit\u001b[49m\u001b[43m(\u001b[49m\u001b[43mmat\u001b[49m\u001b[43m)\u001b[49m\n",
      "Cell \u001b[0;32mIn[32], line 14\u001b[0m, in \u001b[0;36mspiral_visit\u001b[0;34m(mat)\u001b[0m\n\u001b[1;32m     12\u001b[0m rest \u001b[38;5;241m=\u001b[39m np\u001b[38;5;241m.\u001b[39mrot90(rest, k\u001b[38;5;241m=\u001b[39m\u001b[38;5;241m3\u001b[39m)\n\u001b[1;32m     13\u001b[0m bottom_row \u001b[38;5;241m=\u001b[39m mat[\u001b[38;5;241m-\u001b[39m\u001b[38;5;241m1\u001b[39m:, :]\n\u001b[0;32m---> 14\u001b[0m rest \u001b[38;5;241m=\u001b[39m \u001b[43mmat\u001b[49m\u001b[43m[\u001b[49m\u001b[43m:\u001b[49m\u001b[38;5;241;43m-\u001b[39;49m\u001b[38;5;241;43m1\u001b[39;49m\u001b[43m,\u001b[49m\u001b[43m \u001b[49m\u001b[43m:\u001b[49m\u001b[43m]\u001b[49m\u001b[38;5;241;43m.\u001b[39;49m\u001b[43mreshape\u001b[49m\u001b[43m(\u001b[49m\u001b[43m(\u001b[49m\u001b[43mcols\u001b[49m\u001b[43m \u001b[49m\u001b[38;5;241;43m-\u001b[39;49m\u001b[43m \u001b[49m\u001b[38;5;241;43m1\u001b[39;49m\u001b[43m,\u001b[49m\u001b[43m \u001b[49m\u001b[43mrows\u001b[49m\u001b[43m \u001b[49m\u001b[38;5;241;43m-\u001b[39;49m\u001b[43m \u001b[49m\u001b[38;5;241;43m1\u001b[39;49m\u001b[43m)\u001b[49m\u001b[43m)\u001b[49m\n\u001b[1;32m     15\u001b[0m \u001b[38;5;28;01massert\u001b[39;00m rest\u001b[38;5;241m.\u001b[39mshape \u001b[38;5;241m==\u001b[39m (rows \u001b[38;5;241m-\u001b[39m \u001b[38;5;241m2\u001b[39m, cols \u001b[38;5;241m-\u001b[39m \u001b[38;5;241m1\u001b[39m), \u001b[38;5;124mf\u001b[39m\u001b[38;5;124m'\u001b[39m\u001b[38;5;132;01m{\u001b[39;00mrest\u001b[38;5;241m.\u001b[39mshape\u001b[38;5;132;01m=}\u001b[39;00m\u001b[38;5;124m'\u001b[39m\n\u001b[1;32m     16\u001b[0m rest \u001b[38;5;241m=\u001b[39m np\u001b[38;5;241m.\u001b[39mrot90(rest\u001b[38;5;241m.\u001b[39mreshape(rows \u001b[38;5;241m-\u001b[39m \u001b[38;5;241m2\u001b[39m, \u001b[38;5;241m-\u001b[39m\u001b[38;5;241m1\u001b[39m), k\u001b[38;5;241m=\u001b[39m\u001b[38;5;241m3\u001b[39m)\n",
      "\u001b[0;31mValueError\u001b[0m: cannot reshape array of size 72 into shape (8,8)"
     ]
    }
   ],
   "source": [
    "spiral_visit(mat)"
   ]
  },
  {
   "cell_type": "code",
   "execution_count": 23,
   "id": "340477f6-7d89-4fd0-bfd8-15ae3ec5459f",
   "metadata": {},
   "outputs": [
    {
     "data": {
      "text/plain": [
       "array([[ 8],\n",
       "       [17],\n",
       "       [26],\n",
       "       [35],\n",
       "       [44],\n",
       "       [53],\n",
       "       [62],\n",
       "       [71],\n",
       "       [80]])"
      ]
     },
     "execution_count": 23,
     "metadata": {},
     "output_type": "execute_result"
    }
   ],
   "source": [
    "mat[:, -1:]"
   ]
  },
  {
   "cell_type": "code",
   "execution_count": 25,
   "id": "413082fb-928c-4dd8-80ea-4703a7b308ea",
   "metadata": {},
   "outputs": [
    {
     "data": {
      "text/plain": [
       "(9, 8)"
      ]
     },
     "execution_count": 25,
     "metadata": {},
     "output_type": "execute_result"
    }
   ],
   "source": [
    "mat[:, :-1].shape"
   ]
  },
  {
   "cell_type": "code",
   "execution_count": null,
   "id": "e66bc3b5-5aa3-4f89-be02-1cb15c034838",
   "metadata": {},
   "outputs": [],
   "source": []
  }
 ],
 "metadata": {
  "kernelspec": {
   "display_name": "Python 3 (ipykernel)",
   "language": "python",
   "name": "python3"
  },
  "language_info": {
   "codemirror_mode": {
    "name": "ipython",
    "version": 3
   },
   "file_extension": ".py",
   "mimetype": "text/x-python",
   "name": "python",
   "nbconvert_exporter": "python",
   "pygments_lexer": "ipython3",
   "version": "3.8.10"
  }
 },
 "nbformat": 4,
 "nbformat_minor": 5
}
