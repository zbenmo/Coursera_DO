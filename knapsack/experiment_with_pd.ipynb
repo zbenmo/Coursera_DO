{
 "cells": [
  {
   "cell_type": "code",
   "execution_count": 1,
   "id": "a7880a4b-ec80-4a36-99b1-801519309be7",
   "metadata": {},
   "outputs": [],
   "source": [
    "import numpy as np\n",
    "import pandas as pd"
   ]
  },
  {
   "cell_type": "code",
   "execution_count": 43,
   "id": "fc527466-1fb8-4b03-9a15-1d9f30dd1614",
   "metadata": {},
   "outputs": [],
   "source": [
    "items = np.array([(1, 4), (2, 5), (6, 7), (1, 5)])"
   ]
  },
  {
   "cell_type": "code",
   "execution_count": 44,
   "id": "5a7fdd85-c4ff-45ba-b68f-8aea3a4d929a",
   "metadata": {},
   "outputs": [
    {
     "data": {
      "text/plain": [
       "array([[1, 4],\n",
       "       [2, 5],\n",
       "       [6, 7],\n",
       "       [1, 5]])"
      ]
     },
     "execution_count": 44,
     "metadata": {},
     "output_type": "execute_result"
    }
   ],
   "source": [
    "items"
   ]
  },
  {
   "cell_type": "code",
   "execution_count": 45,
   "id": "107aafe7-99e5-4b6a-8272-896c3bd742cc",
   "metadata": {},
   "outputs": [],
   "source": [
    "value_per_unit_of_weight = np.apply_along_axis(lambda item: item[0] / item[1], axis=1, arr=items)"
   ]
  },
  {
   "cell_type": "code",
   "execution_count": 46,
   "id": "804e0216-6e1a-4185-be8a-d189c08d9e1c",
   "metadata": {},
   "outputs": [
    {
     "data": {
      "text/plain": [
       "array([0.25      , 0.4       , 0.85714286, 0.2       ])"
      ]
     },
     "execution_count": 46,
     "metadata": {},
     "output_type": "execute_result"
    }
   ],
   "source": [
    "value_per_unit_of_weight"
   ]
  },
  {
   "cell_type": "code",
   "execution_count": 47,
   "id": "51c570b7-abfb-43bc-8eb8-5e47ab10ea18",
   "metadata": {},
   "outputs": [],
   "source": [
    "df = pd.DataFrame(items)"
   ]
  },
  {
   "cell_type": "code",
   "execution_count": 48,
   "id": "8a588ac0-804c-4aa8-8c05-4c7cf2296ffc",
   "metadata": {},
   "outputs": [
    {
     "data": {
      "text/html": [
       "<div>\n",
       "<style scoped>\n",
       "    .dataframe tbody tr th:only-of-type {\n",
       "        vertical-align: middle;\n",
       "    }\n",
       "\n",
       "    .dataframe tbody tr th {\n",
       "        vertical-align: top;\n",
       "    }\n",
       "\n",
       "    .dataframe thead th {\n",
       "        text-align: right;\n",
       "    }\n",
       "</style>\n",
       "<table border=\"1\" class=\"dataframe\">\n",
       "  <thead>\n",
       "    <tr style=\"text-align: right;\">\n",
       "      <th></th>\n",
       "      <th>0</th>\n",
       "      <th>1</th>\n",
       "    </tr>\n",
       "  </thead>\n",
       "  <tbody>\n",
       "    <tr>\n",
       "      <th>0</th>\n",
       "      <td>1</td>\n",
       "      <td>4</td>\n",
       "    </tr>\n",
       "    <tr>\n",
       "      <th>1</th>\n",
       "      <td>2</td>\n",
       "      <td>5</td>\n",
       "    </tr>\n",
       "    <tr>\n",
       "      <th>2</th>\n",
       "      <td>6</td>\n",
       "      <td>7</td>\n",
       "    </tr>\n",
       "    <tr>\n",
       "      <th>3</th>\n",
       "      <td>1</td>\n",
       "      <td>5</td>\n",
       "    </tr>\n",
       "  </tbody>\n",
       "</table>\n",
       "</div>"
      ],
      "text/plain": [
       "   0  1\n",
       "0  1  4\n",
       "1  2  5\n",
       "2  6  7\n",
       "3  1  5"
      ]
     },
     "execution_count": 48,
     "metadata": {},
     "output_type": "execute_result"
    }
   ],
   "source": [
    "df"
   ]
  },
  {
   "cell_type": "code",
   "execution_count": 64,
   "id": "07fc1441-3e2d-41ed-aa29-b3e8c87c8592",
   "metadata": {},
   "outputs": [
    {
     "data": {
      "text/html": [
       "<div>\n",
       "<style scoped>\n",
       "    .dataframe tbody tr th:only-of-type {\n",
       "        vertical-align: middle;\n",
       "    }\n",
       "\n",
       "    .dataframe tbody tr th {\n",
       "        vertical-align: top;\n",
       "    }\n",
       "\n",
       "    .dataframe thead th {\n",
       "        text-align: right;\n",
       "    }\n",
       "</style>\n",
       "<table border=\"1\" class=\"dataframe\">\n",
       "  <thead>\n",
       "    <tr style=\"text-align: right;\">\n",
       "      <th></th>\n",
       "      <th>0</th>\n",
       "      <th>1</th>\n",
       "      <th>value_per_unit_of_weight</th>\n",
       "      <th>cum_weight</th>\n",
       "      <th>cum_weight_before</th>\n",
       "      <th>take</th>\n",
       "      <th>value</th>\n",
       "    </tr>\n",
       "  </thead>\n",
       "  <tbody>\n",
       "    <tr>\n",
       "      <th>1</th>\n",
       "      <td>2</td>\n",
       "      <td>5</td>\n",
       "      <td>0.40</td>\n",
       "      <td>5</td>\n",
       "      <td>0</td>\n",
       "      <td>1.0</td>\n",
       "      <td>2.0</td>\n",
       "    </tr>\n",
       "    <tr>\n",
       "      <th>0</th>\n",
       "      <td>1</td>\n",
       "      <td>4</td>\n",
       "      <td>0.25</td>\n",
       "      <td>9</td>\n",
       "      <td>5</td>\n",
       "      <td>0.5</td>\n",
       "      <td>0.5</td>\n",
       "    </tr>\n",
       "    <tr>\n",
       "      <th>3</th>\n",
       "      <td>1</td>\n",
       "      <td>5</td>\n",
       "      <td>0.20</td>\n",
       "      <td>14</td>\n",
       "      <td>9</td>\n",
       "      <td>0.0</td>\n",
       "      <td>0.0</td>\n",
       "    </tr>\n",
       "  </tbody>\n",
       "</table>\n",
       "</div>"
      ],
      "text/plain": [
       "   0  1  value_per_unit_of_weight  cum_weight  cum_weight_before  take  value\n",
       "1  2  5                      0.40           5                  0   1.0    2.0\n",
       "0  1  4                      0.25           9                  5   0.5    0.5\n",
       "3  1  5                      0.20          14                  9   0.0    0.0"
      ]
     },
     "execution_count": 64,
     "metadata": {},
     "output_type": "execute_result"
    }
   ],
   "source": [
    "(\n",
    "    df\n",
    "    .assign(\n",
    "        value_per_unit_of_weight=lambda d: d[0] / d[1]\n",
    "    )\n",
    "    .sort_values(by='value_per_unit_of_weight', ascending=False)\n",
    "    .iloc[1:]\n",
    "    .assign(\n",
    "        cum_weight=lambda d: d[1].cumsum(),\n",
    "        cum_weight_before=lambda d: d.cum_weight - d[1], \n",
    "        take=lambda d: np.where(d.cum_weight <= 7, 1, np.where(d.cum_weight_before < 7, (7 - d.cum_weight_before) / d[1], 0)),\n",
    "        value=lambda d: d['take'] * d[0],\n",
    "    )\n",
    "    # ['value']\n",
    "    # .sum()\n",
    ")"
   ]
  },
  {
   "cell_type": "code",
   "execution_count": 85,
   "id": "0da53a13-5b1a-4613-b616-d94dfb4d8b1d",
   "metadata": {},
   "outputs": [],
   "source": [
    "col = np.array([[True, False] * 4]); row = col.T"
   ]
  },
  {
   "cell_type": "code",
   "execution_count": 86,
   "id": "9250da25-9a83-42da-8e82-a926c80ffa8a",
   "metadata": {},
   "outputs": [
    {
     "data": {
      "text/plain": [
       "array([[False,  True, False,  True, False,  True, False,  True],\n",
       "       [ True, False,  True, False,  True, False,  True, False],\n",
       "       [False,  True, False,  True, False,  True, False,  True],\n",
       "       [ True, False,  True, False,  True, False,  True, False],\n",
       "       [False,  True, False,  True, False,  True, False,  True],\n",
       "       [ True, False,  True, False,  True, False,  True, False],\n",
       "       [False,  True, False,  True, False,  True, False,  True],\n",
       "       [ True, False,  True, False,  True, False,  True, False]])"
      ]
     },
     "execution_count": 86,
     "metadata": {},
     "output_type": "execute_result"
    }
   ],
   "source": [
    "col ^ row"
   ]
  },
  {
   "cell_type": "code",
   "execution_count": 87,
   "id": "d4f856de-0a19-48d2-8cdf-6bd391dad2a7",
   "metadata": {},
   "outputs": [],
   "source": [
    "my_mat = pd.DataFrame(np.zeros((8, 8)), columns=iter(\"ABCDEFGH\"))"
   ]
  },
  {
   "cell_type": "code",
   "execution_count": 88,
   "id": "b0cd5806-e985-46fd-83f5-1f0fdced48ca",
   "metadata": {},
   "outputs": [
    {
     "data": {
      "text/html": [
       "<div>\n",
       "<style scoped>\n",
       "    .dataframe tbody tr th:only-of-type {\n",
       "        vertical-align: middle;\n",
       "    }\n",
       "\n",
       "    .dataframe tbody tr th {\n",
       "        vertical-align: top;\n",
       "    }\n",
       "\n",
       "    .dataframe thead th {\n",
       "        text-align: right;\n",
       "    }\n",
       "</style>\n",
       "<table border=\"1\" class=\"dataframe\">\n",
       "  <thead>\n",
       "    <tr style=\"text-align: right;\">\n",
       "      <th></th>\n",
       "      <th>A</th>\n",
       "      <th>B</th>\n",
       "      <th>C</th>\n",
       "      <th>D</th>\n",
       "      <th>E</th>\n",
       "      <th>F</th>\n",
       "      <th>G</th>\n",
       "      <th>H</th>\n",
       "    </tr>\n",
       "  </thead>\n",
       "  <tbody>\n",
       "    <tr>\n",
       "      <th>0</th>\n",
       "      <td>0.0</td>\n",
       "      <td>0.0</td>\n",
       "      <td>0.0</td>\n",
       "      <td>0.0</td>\n",
       "      <td>0.0</td>\n",
       "      <td>0.0</td>\n",
       "      <td>0.0</td>\n",
       "      <td>0.0</td>\n",
       "    </tr>\n",
       "    <tr>\n",
       "      <th>1</th>\n",
       "      <td>0.0</td>\n",
       "      <td>0.0</td>\n",
       "      <td>0.0</td>\n",
       "      <td>0.0</td>\n",
       "      <td>0.0</td>\n",
       "      <td>0.0</td>\n",
       "      <td>0.0</td>\n",
       "      <td>0.0</td>\n",
       "    </tr>\n",
       "    <tr>\n",
       "      <th>2</th>\n",
       "      <td>0.0</td>\n",
       "      <td>0.0</td>\n",
       "      <td>0.0</td>\n",
       "      <td>0.0</td>\n",
       "      <td>0.0</td>\n",
       "      <td>0.0</td>\n",
       "      <td>0.0</td>\n",
       "      <td>0.0</td>\n",
       "    </tr>\n",
       "    <tr>\n",
       "      <th>3</th>\n",
       "      <td>0.0</td>\n",
       "      <td>0.0</td>\n",
       "      <td>0.0</td>\n",
       "      <td>0.0</td>\n",
       "      <td>0.0</td>\n",
       "      <td>0.0</td>\n",
       "      <td>0.0</td>\n",
       "      <td>0.0</td>\n",
       "    </tr>\n",
       "    <tr>\n",
       "      <th>4</th>\n",
       "      <td>0.0</td>\n",
       "      <td>0.0</td>\n",
       "      <td>0.0</td>\n",
       "      <td>0.0</td>\n",
       "      <td>0.0</td>\n",
       "      <td>0.0</td>\n",
       "      <td>0.0</td>\n",
       "      <td>0.0</td>\n",
       "    </tr>\n",
       "    <tr>\n",
       "      <th>5</th>\n",
       "      <td>0.0</td>\n",
       "      <td>0.0</td>\n",
       "      <td>0.0</td>\n",
       "      <td>0.0</td>\n",
       "      <td>0.0</td>\n",
       "      <td>0.0</td>\n",
       "      <td>0.0</td>\n",
       "      <td>0.0</td>\n",
       "    </tr>\n",
       "    <tr>\n",
       "      <th>6</th>\n",
       "      <td>0.0</td>\n",
       "      <td>0.0</td>\n",
       "      <td>0.0</td>\n",
       "      <td>0.0</td>\n",
       "      <td>0.0</td>\n",
       "      <td>0.0</td>\n",
       "      <td>0.0</td>\n",
       "      <td>0.0</td>\n",
       "    </tr>\n",
       "    <tr>\n",
       "      <th>7</th>\n",
       "      <td>0.0</td>\n",
       "      <td>0.0</td>\n",
       "      <td>0.0</td>\n",
       "      <td>0.0</td>\n",
       "      <td>0.0</td>\n",
       "      <td>0.0</td>\n",
       "      <td>0.0</td>\n",
       "      <td>0.0</td>\n",
       "    </tr>\n",
       "  </tbody>\n",
       "</table>\n",
       "</div>"
      ],
      "text/plain": [
       "     A    B    C    D    E    F    G    H\n",
       "0  0.0  0.0  0.0  0.0  0.0  0.0  0.0  0.0\n",
       "1  0.0  0.0  0.0  0.0  0.0  0.0  0.0  0.0\n",
       "2  0.0  0.0  0.0  0.0  0.0  0.0  0.0  0.0\n",
       "3  0.0  0.0  0.0  0.0  0.0  0.0  0.0  0.0\n",
       "4  0.0  0.0  0.0  0.0  0.0  0.0  0.0  0.0\n",
       "5  0.0  0.0  0.0  0.0  0.0  0.0  0.0  0.0\n",
       "6  0.0  0.0  0.0  0.0  0.0  0.0  0.0  0.0\n",
       "7  0.0  0.0  0.0  0.0  0.0  0.0  0.0  0.0"
      ]
     },
     "execution_count": 88,
     "metadata": {},
     "output_type": "execute_result"
    }
   ],
   "source": [
    "my_mat"
   ]
  },
  {
   "cell_type": "code",
   "execution_count": 89,
   "id": "6c488b86-19b6-487e-b397-2a908ff8f0cd",
   "metadata": {},
   "outputs": [],
   "source": [
    "s = my_mat.style"
   ]
  },
  {
   "cell_type": "code",
   "execution_count": 90,
   "id": "c0de7969-9f2a-46e2-97e3-ebfb7e04f742",
   "metadata": {},
   "outputs": [
    {
     "data": {
      "text/html": [
       "<style type=\"text/css\">\n",
       "#T_b8c1e .true {\n",
       "  background-color: #e6ffe6;\n",
       "}\n",
       "#T_b8c1e .false {\n",
       "  background-color: #ffe6e6;\n",
       "}\n",
       "</style>\n",
       "<table id=\"T_b8c1e\">\n",
       "  <thead>\n",
       "    <tr>\n",
       "      <th class=\"blank level0\" >&nbsp;</th>\n",
       "      <th id=\"T_b8c1e_level0_col0\" class=\"col_heading level0 col0\" >A</th>\n",
       "      <th id=\"T_b8c1e_level0_col1\" class=\"col_heading level0 col1\" >B</th>\n",
       "      <th id=\"T_b8c1e_level0_col2\" class=\"col_heading level0 col2\" >C</th>\n",
       "      <th id=\"T_b8c1e_level0_col3\" class=\"col_heading level0 col3\" >D</th>\n",
       "      <th id=\"T_b8c1e_level0_col4\" class=\"col_heading level0 col4\" >E</th>\n",
       "      <th id=\"T_b8c1e_level0_col5\" class=\"col_heading level0 col5\" >F</th>\n",
       "      <th id=\"T_b8c1e_level0_col6\" class=\"col_heading level0 col6\" >G</th>\n",
       "      <th id=\"T_b8c1e_level0_col7\" class=\"col_heading level0 col7\" >H</th>\n",
       "    </tr>\n",
       "  </thead>\n",
       "  <tbody>\n",
       "    <tr>\n",
       "      <th id=\"T_b8c1e_level0_row0\" class=\"row_heading level0 row0\" >0</th>\n",
       "      <td id=\"T_b8c1e_row0_col0\" class=\"data row0 col0\" >0.000000</td>\n",
       "      <td id=\"T_b8c1e_row0_col1\" class=\"data row0 col1\" >0.000000</td>\n",
       "      <td id=\"T_b8c1e_row0_col2\" class=\"data row0 col2\" >0.000000</td>\n",
       "      <td id=\"T_b8c1e_row0_col3\" class=\"data row0 col3\" >0.000000</td>\n",
       "      <td id=\"T_b8c1e_row0_col4\" class=\"data row0 col4\" >0.000000</td>\n",
       "      <td id=\"T_b8c1e_row0_col5\" class=\"data row0 col5\" >0.000000</td>\n",
       "      <td id=\"T_b8c1e_row0_col6\" class=\"data row0 col6\" >0.000000</td>\n",
       "      <td id=\"T_b8c1e_row0_col7\" class=\"data row0 col7\" >0.000000</td>\n",
       "    </tr>\n",
       "    <tr>\n",
       "      <th id=\"T_b8c1e_level0_row1\" class=\"row_heading level0 row1\" >1</th>\n",
       "      <td id=\"T_b8c1e_row1_col0\" class=\"data row1 col0\" >0.000000</td>\n",
       "      <td id=\"T_b8c1e_row1_col1\" class=\"data row1 col1\" >0.000000</td>\n",
       "      <td id=\"T_b8c1e_row1_col2\" class=\"data row1 col2\" >0.000000</td>\n",
       "      <td id=\"T_b8c1e_row1_col3\" class=\"data row1 col3\" >0.000000</td>\n",
       "      <td id=\"T_b8c1e_row1_col4\" class=\"data row1 col4\" >0.000000</td>\n",
       "      <td id=\"T_b8c1e_row1_col5\" class=\"data row1 col5\" >0.000000</td>\n",
       "      <td id=\"T_b8c1e_row1_col6\" class=\"data row1 col6\" >0.000000</td>\n",
       "      <td id=\"T_b8c1e_row1_col7\" class=\"data row1 col7\" >0.000000</td>\n",
       "    </tr>\n",
       "    <tr>\n",
       "      <th id=\"T_b8c1e_level0_row2\" class=\"row_heading level0 row2\" >2</th>\n",
       "      <td id=\"T_b8c1e_row2_col0\" class=\"data row2 col0\" >0.000000</td>\n",
       "      <td id=\"T_b8c1e_row2_col1\" class=\"data row2 col1\" >0.000000</td>\n",
       "      <td id=\"T_b8c1e_row2_col2\" class=\"data row2 col2\" >0.000000</td>\n",
       "      <td id=\"T_b8c1e_row2_col3\" class=\"data row2 col3\" >0.000000</td>\n",
       "      <td id=\"T_b8c1e_row2_col4\" class=\"data row2 col4\" >0.000000</td>\n",
       "      <td id=\"T_b8c1e_row2_col5\" class=\"data row2 col5\" >0.000000</td>\n",
       "      <td id=\"T_b8c1e_row2_col6\" class=\"data row2 col6\" >0.000000</td>\n",
       "      <td id=\"T_b8c1e_row2_col7\" class=\"data row2 col7\" >0.000000</td>\n",
       "    </tr>\n",
       "    <tr>\n",
       "      <th id=\"T_b8c1e_level0_row3\" class=\"row_heading level0 row3\" >3</th>\n",
       "      <td id=\"T_b8c1e_row3_col0\" class=\"data row3 col0\" >0.000000</td>\n",
       "      <td id=\"T_b8c1e_row3_col1\" class=\"data row3 col1\" >0.000000</td>\n",
       "      <td id=\"T_b8c1e_row3_col2\" class=\"data row3 col2\" >0.000000</td>\n",
       "      <td id=\"T_b8c1e_row3_col3\" class=\"data row3 col3\" >0.000000</td>\n",
       "      <td id=\"T_b8c1e_row3_col4\" class=\"data row3 col4\" >0.000000</td>\n",
       "      <td id=\"T_b8c1e_row3_col5\" class=\"data row3 col5\" >0.000000</td>\n",
       "      <td id=\"T_b8c1e_row3_col6\" class=\"data row3 col6\" >0.000000</td>\n",
       "      <td id=\"T_b8c1e_row3_col7\" class=\"data row3 col7\" >0.000000</td>\n",
       "    </tr>\n",
       "    <tr>\n",
       "      <th id=\"T_b8c1e_level0_row4\" class=\"row_heading level0 row4\" >4</th>\n",
       "      <td id=\"T_b8c1e_row4_col0\" class=\"data row4 col0\" >0.000000</td>\n",
       "      <td id=\"T_b8c1e_row4_col1\" class=\"data row4 col1\" >0.000000</td>\n",
       "      <td id=\"T_b8c1e_row4_col2\" class=\"data row4 col2\" >0.000000</td>\n",
       "      <td id=\"T_b8c1e_row4_col3\" class=\"data row4 col3\" >0.000000</td>\n",
       "      <td id=\"T_b8c1e_row4_col4\" class=\"data row4 col4\" >0.000000</td>\n",
       "      <td id=\"T_b8c1e_row4_col5\" class=\"data row4 col5\" >0.000000</td>\n",
       "      <td id=\"T_b8c1e_row4_col6\" class=\"data row4 col6\" >0.000000</td>\n",
       "      <td id=\"T_b8c1e_row4_col7\" class=\"data row4 col7\" >0.000000</td>\n",
       "    </tr>\n",
       "    <tr>\n",
       "      <th id=\"T_b8c1e_level0_row5\" class=\"row_heading level0 row5\" >5</th>\n",
       "      <td id=\"T_b8c1e_row5_col0\" class=\"data row5 col0\" >0.000000</td>\n",
       "      <td id=\"T_b8c1e_row5_col1\" class=\"data row5 col1\" >0.000000</td>\n",
       "      <td id=\"T_b8c1e_row5_col2\" class=\"data row5 col2\" >0.000000</td>\n",
       "      <td id=\"T_b8c1e_row5_col3\" class=\"data row5 col3\" >0.000000</td>\n",
       "      <td id=\"T_b8c1e_row5_col4\" class=\"data row5 col4\" >0.000000</td>\n",
       "      <td id=\"T_b8c1e_row5_col5\" class=\"data row5 col5\" >0.000000</td>\n",
       "      <td id=\"T_b8c1e_row5_col6\" class=\"data row5 col6\" >0.000000</td>\n",
       "      <td id=\"T_b8c1e_row5_col7\" class=\"data row5 col7\" >0.000000</td>\n",
       "    </tr>\n",
       "    <tr>\n",
       "      <th id=\"T_b8c1e_level0_row6\" class=\"row_heading level0 row6\" >6</th>\n",
       "      <td id=\"T_b8c1e_row6_col0\" class=\"data row6 col0\" >0.000000</td>\n",
       "      <td id=\"T_b8c1e_row6_col1\" class=\"data row6 col1\" >0.000000</td>\n",
       "      <td id=\"T_b8c1e_row6_col2\" class=\"data row6 col2\" >0.000000</td>\n",
       "      <td id=\"T_b8c1e_row6_col3\" class=\"data row6 col3\" >0.000000</td>\n",
       "      <td id=\"T_b8c1e_row6_col4\" class=\"data row6 col4\" >0.000000</td>\n",
       "      <td id=\"T_b8c1e_row6_col5\" class=\"data row6 col5\" >0.000000</td>\n",
       "      <td id=\"T_b8c1e_row6_col6\" class=\"data row6 col6\" >0.000000</td>\n",
       "      <td id=\"T_b8c1e_row6_col7\" class=\"data row6 col7\" >0.000000</td>\n",
       "    </tr>\n",
       "    <tr>\n",
       "      <th id=\"T_b8c1e_level0_row7\" class=\"row_heading level0 row7\" >7</th>\n",
       "      <td id=\"T_b8c1e_row7_col0\" class=\"data row7 col0\" >0.000000</td>\n",
       "      <td id=\"T_b8c1e_row7_col1\" class=\"data row7 col1\" >0.000000</td>\n",
       "      <td id=\"T_b8c1e_row7_col2\" class=\"data row7 col2\" >0.000000</td>\n",
       "      <td id=\"T_b8c1e_row7_col3\" class=\"data row7 col3\" >0.000000</td>\n",
       "      <td id=\"T_b8c1e_row7_col4\" class=\"data row7 col4\" >0.000000</td>\n",
       "      <td id=\"T_b8c1e_row7_col5\" class=\"data row7 col5\" >0.000000</td>\n",
       "      <td id=\"T_b8c1e_row7_col6\" class=\"data row7 col6\" >0.000000</td>\n",
       "      <td id=\"T_b8c1e_row7_col7\" class=\"data row7 col7\" >0.000000</td>\n",
       "    </tr>\n",
       "  </tbody>\n",
       "</table>\n"
      ],
      "text/plain": [
       "<pandas.io.formats.style.Styler at 0x7fe2fcd57340>"
      ]
     },
     "execution_count": 90,
     "metadata": {},
     "output_type": "execute_result"
    }
   ],
   "source": [
    "s.set_table_styles([  # create internal CSS classes\n",
    "    {'selector': '.true', 'props': 'background-color: #e6ffe6;'},\n",
    "    {'selector': '.false', 'props': 'background-color: #ffe6e6;'},\n",
    "], overwrite=False)"
   ]
  },
  {
   "cell_type": "code",
   "execution_count": 91,
   "id": "4a22a939-de21-4e18-be5f-29a17f9fb7ee",
   "metadata": {},
   "outputs": [
    {
     "data": {
      "text/plain": [
       "array([['false', 'true', 'false', 'true', 'false', 'true', 'false',\n",
       "        'true'],\n",
       "       ['true', 'false', 'true', 'false', 'true', 'false', 'true',\n",
       "        'false'],\n",
       "       ['false', 'true', 'false', 'true', 'false', 'true', 'false',\n",
       "        'true'],\n",
       "       ['true', 'false', 'true', 'false', 'true', 'false', 'true',\n",
       "        'false'],\n",
       "       ['false', 'true', 'false', 'true', 'false', 'true', 'false',\n",
       "        'true'],\n",
       "       ['true', 'false', 'true', 'false', 'true', 'false', 'true',\n",
       "        'false'],\n",
       "       ['false', 'true', 'false', 'true', 'false', 'true', 'false',\n",
       "        'true'],\n",
       "       ['true', 'false', 'true', 'false', 'true', 'false', 'true',\n",
       "        'false']], dtype='<U5')"
      ]
     },
     "execution_count": 91,
     "metadata": {},
     "output_type": "execute_result"
    }
   ],
   "source": [
    "to_str = lambda cell_val: 'true' if cell_val else 'false' \n",
    "\n",
    "to_str = np.vectorize(to_str)\n",
    "\n",
    "to_str(col ^ row)"
   ]
  },
  {
   "cell_type": "code",
   "execution_count": 92,
   "id": "fe80164d-1a10-40ea-bd09-9a3a79290773",
   "metadata": {},
   "outputs": [
    {
     "data": {
      "text/html": [
       "<style type=\"text/css\">\n",
       "#T_b8c1e .true {\n",
       "  background-color: #e6ffe6;\n",
       "}\n",
       "#T_b8c1e .false {\n",
       "  background-color: #ffe6e6;\n",
       "}\n",
       "</style>\n",
       "<table id=\"T_b8c1e\">\n",
       "  <thead>\n",
       "    <tr>\n",
       "      <th class=\"blank level0\" >&nbsp;</th>\n",
       "      <th id=\"T_b8c1e_level0_col0\" class=\"col_heading level0 col0\" >A</th>\n",
       "      <th id=\"T_b8c1e_level0_col1\" class=\"col_heading level0 col1\" >B</th>\n",
       "      <th id=\"T_b8c1e_level0_col2\" class=\"col_heading level0 col2\" >C</th>\n",
       "      <th id=\"T_b8c1e_level0_col3\" class=\"col_heading level0 col3\" >D</th>\n",
       "      <th id=\"T_b8c1e_level0_col4\" class=\"col_heading level0 col4\" >E</th>\n",
       "      <th id=\"T_b8c1e_level0_col5\" class=\"col_heading level0 col5\" >F</th>\n",
       "      <th id=\"T_b8c1e_level0_col6\" class=\"col_heading level0 col6\" >G</th>\n",
       "      <th id=\"T_b8c1e_level0_col7\" class=\"col_heading level0 col7\" >H</th>\n",
       "    </tr>\n",
       "  </thead>\n",
       "  <tbody>\n",
       "    <tr>\n",
       "      <th id=\"T_b8c1e_level0_row0\" class=\"row_heading level0 row0\" >0</th>\n",
       "      <td id=\"T_b8c1e_row0_col0\" class=\"data row0 col0 false\" >0.000000</td>\n",
       "      <td id=\"T_b8c1e_row0_col1\" class=\"data row0 col1 true\" >0.000000</td>\n",
       "      <td id=\"T_b8c1e_row0_col2\" class=\"data row0 col2 false\" >0.000000</td>\n",
       "      <td id=\"T_b8c1e_row0_col3\" class=\"data row0 col3 true\" >0.000000</td>\n",
       "      <td id=\"T_b8c1e_row0_col4\" class=\"data row0 col4 false\" >0.000000</td>\n",
       "      <td id=\"T_b8c1e_row0_col5\" class=\"data row0 col5 true\" >0.000000</td>\n",
       "      <td id=\"T_b8c1e_row0_col6\" class=\"data row0 col6 false\" >0.000000</td>\n",
       "      <td id=\"T_b8c1e_row0_col7\" class=\"data row0 col7 true\" >0.000000</td>\n",
       "    </tr>\n",
       "    <tr>\n",
       "      <th id=\"T_b8c1e_level0_row1\" class=\"row_heading level0 row1\" >1</th>\n",
       "      <td id=\"T_b8c1e_row1_col0\" class=\"data row1 col0 true\" >0.000000</td>\n",
       "      <td id=\"T_b8c1e_row1_col1\" class=\"data row1 col1 false\" >0.000000</td>\n",
       "      <td id=\"T_b8c1e_row1_col2\" class=\"data row1 col2 true\" >0.000000</td>\n",
       "      <td id=\"T_b8c1e_row1_col3\" class=\"data row1 col3 false\" >0.000000</td>\n",
       "      <td id=\"T_b8c1e_row1_col4\" class=\"data row1 col4 true\" >0.000000</td>\n",
       "      <td id=\"T_b8c1e_row1_col5\" class=\"data row1 col5 false\" >0.000000</td>\n",
       "      <td id=\"T_b8c1e_row1_col6\" class=\"data row1 col6 true\" >0.000000</td>\n",
       "      <td id=\"T_b8c1e_row1_col7\" class=\"data row1 col7 false\" >0.000000</td>\n",
       "    </tr>\n",
       "    <tr>\n",
       "      <th id=\"T_b8c1e_level0_row2\" class=\"row_heading level0 row2\" >2</th>\n",
       "      <td id=\"T_b8c1e_row2_col0\" class=\"data row2 col0 false\" >0.000000</td>\n",
       "      <td id=\"T_b8c1e_row2_col1\" class=\"data row2 col1 true\" >0.000000</td>\n",
       "      <td id=\"T_b8c1e_row2_col2\" class=\"data row2 col2 false\" >0.000000</td>\n",
       "      <td id=\"T_b8c1e_row2_col3\" class=\"data row2 col3 true\" >0.000000</td>\n",
       "      <td id=\"T_b8c1e_row2_col4\" class=\"data row2 col4 false\" >0.000000</td>\n",
       "      <td id=\"T_b8c1e_row2_col5\" class=\"data row2 col5 true\" >0.000000</td>\n",
       "      <td id=\"T_b8c1e_row2_col6\" class=\"data row2 col6 false\" >0.000000</td>\n",
       "      <td id=\"T_b8c1e_row2_col7\" class=\"data row2 col7 true\" >0.000000</td>\n",
       "    </tr>\n",
       "    <tr>\n",
       "      <th id=\"T_b8c1e_level0_row3\" class=\"row_heading level0 row3\" >3</th>\n",
       "      <td id=\"T_b8c1e_row3_col0\" class=\"data row3 col0 true\" >0.000000</td>\n",
       "      <td id=\"T_b8c1e_row3_col1\" class=\"data row3 col1 false\" >0.000000</td>\n",
       "      <td id=\"T_b8c1e_row3_col2\" class=\"data row3 col2 true\" >0.000000</td>\n",
       "      <td id=\"T_b8c1e_row3_col3\" class=\"data row3 col3 false\" >0.000000</td>\n",
       "      <td id=\"T_b8c1e_row3_col4\" class=\"data row3 col4 true\" >0.000000</td>\n",
       "      <td id=\"T_b8c1e_row3_col5\" class=\"data row3 col5 false\" >0.000000</td>\n",
       "      <td id=\"T_b8c1e_row3_col6\" class=\"data row3 col6 true\" >0.000000</td>\n",
       "      <td id=\"T_b8c1e_row3_col7\" class=\"data row3 col7 false\" >0.000000</td>\n",
       "    </tr>\n",
       "    <tr>\n",
       "      <th id=\"T_b8c1e_level0_row4\" class=\"row_heading level0 row4\" >4</th>\n",
       "      <td id=\"T_b8c1e_row4_col0\" class=\"data row4 col0 false\" >0.000000</td>\n",
       "      <td id=\"T_b8c1e_row4_col1\" class=\"data row4 col1 true\" >0.000000</td>\n",
       "      <td id=\"T_b8c1e_row4_col2\" class=\"data row4 col2 false\" >0.000000</td>\n",
       "      <td id=\"T_b8c1e_row4_col3\" class=\"data row4 col3 true\" >0.000000</td>\n",
       "      <td id=\"T_b8c1e_row4_col4\" class=\"data row4 col4 false\" >0.000000</td>\n",
       "      <td id=\"T_b8c1e_row4_col5\" class=\"data row4 col5 true\" >0.000000</td>\n",
       "      <td id=\"T_b8c1e_row4_col6\" class=\"data row4 col6 false\" >0.000000</td>\n",
       "      <td id=\"T_b8c1e_row4_col7\" class=\"data row4 col7 true\" >0.000000</td>\n",
       "    </tr>\n",
       "    <tr>\n",
       "      <th id=\"T_b8c1e_level0_row5\" class=\"row_heading level0 row5\" >5</th>\n",
       "      <td id=\"T_b8c1e_row5_col0\" class=\"data row5 col0 true\" >0.000000</td>\n",
       "      <td id=\"T_b8c1e_row5_col1\" class=\"data row5 col1 false\" >0.000000</td>\n",
       "      <td id=\"T_b8c1e_row5_col2\" class=\"data row5 col2 true\" >0.000000</td>\n",
       "      <td id=\"T_b8c1e_row5_col3\" class=\"data row5 col3 false\" >0.000000</td>\n",
       "      <td id=\"T_b8c1e_row5_col4\" class=\"data row5 col4 true\" >0.000000</td>\n",
       "      <td id=\"T_b8c1e_row5_col5\" class=\"data row5 col5 false\" >0.000000</td>\n",
       "      <td id=\"T_b8c1e_row5_col6\" class=\"data row5 col6 true\" >0.000000</td>\n",
       "      <td id=\"T_b8c1e_row5_col7\" class=\"data row5 col7 false\" >0.000000</td>\n",
       "    </tr>\n",
       "    <tr>\n",
       "      <th id=\"T_b8c1e_level0_row6\" class=\"row_heading level0 row6\" >6</th>\n",
       "      <td id=\"T_b8c1e_row6_col0\" class=\"data row6 col0 false\" >0.000000</td>\n",
       "      <td id=\"T_b8c1e_row6_col1\" class=\"data row6 col1 true\" >0.000000</td>\n",
       "      <td id=\"T_b8c1e_row6_col2\" class=\"data row6 col2 false\" >0.000000</td>\n",
       "      <td id=\"T_b8c1e_row6_col3\" class=\"data row6 col3 true\" >0.000000</td>\n",
       "      <td id=\"T_b8c1e_row6_col4\" class=\"data row6 col4 false\" >0.000000</td>\n",
       "      <td id=\"T_b8c1e_row6_col5\" class=\"data row6 col5 true\" >0.000000</td>\n",
       "      <td id=\"T_b8c1e_row6_col6\" class=\"data row6 col6 false\" >0.000000</td>\n",
       "      <td id=\"T_b8c1e_row6_col7\" class=\"data row6 col7 true\" >0.000000</td>\n",
       "    </tr>\n",
       "    <tr>\n",
       "      <th id=\"T_b8c1e_level0_row7\" class=\"row_heading level0 row7\" >7</th>\n",
       "      <td id=\"T_b8c1e_row7_col0\" class=\"data row7 col0 true\" >0.000000</td>\n",
       "      <td id=\"T_b8c1e_row7_col1\" class=\"data row7 col1 false\" >0.000000</td>\n",
       "      <td id=\"T_b8c1e_row7_col2\" class=\"data row7 col2 true\" >0.000000</td>\n",
       "      <td id=\"T_b8c1e_row7_col3\" class=\"data row7 col3 false\" >0.000000</td>\n",
       "      <td id=\"T_b8c1e_row7_col4\" class=\"data row7 col4 true\" >0.000000</td>\n",
       "      <td id=\"T_b8c1e_row7_col5\" class=\"data row7 col5 false\" >0.000000</td>\n",
       "      <td id=\"T_b8c1e_row7_col6\" class=\"data row7 col6 true\" >0.000000</td>\n",
       "      <td id=\"T_b8c1e_row7_col7\" class=\"data row7 col7 false\" >0.000000</td>\n",
       "    </tr>\n",
       "  </tbody>\n",
       "</table>\n"
      ],
      "text/plain": [
       "<pandas.io.formats.style.Styler at 0x7fe2fcd57340>"
      ]
     },
     "execution_count": 92,
     "metadata": {},
     "output_type": "execute_result"
    }
   ],
   "source": [
    "s.set_td_classes(pd.DataFrame(to_str(col ^ row), columns=iter(\"ABCDEFGH\")))"
   ]
  },
  {
   "cell_type": "code",
   "execution_count": 93,
   "id": "0714de9c-d3d0-4625-847d-0f108877d926",
   "metadata": {},
   "outputs": [],
   "source": [
    "xx, yy = np.meshgrid(range(8), range(8))"
   ]
  },
  {
   "cell_type": "code",
   "execution_count": 98,
   "id": "0ebd5890-0e7e-4f72-8491-169e4dd59679",
   "metadata": {},
   "outputs": [
    {
     "data": {
      "text/plain": [
       "array([[0, 1, 2, 3, 4, 5, 6, 7],\n",
       "       [0, 1, 2, 3, 4, 5, 6, 7],\n",
       "       [0, 1, 2, 3, 4, 5, 6, 7],\n",
       "       [0, 1, 2, 3, 4, 5, 6, 7],\n",
       "       [0, 1, 2, 3, 4, 5, 6, 7],\n",
       "       [0, 1, 2, 3, 4, 5, 6, 7],\n",
       "       [0, 1, 2, 3, 4, 5, 6, 7],\n",
       "       [0, 1, 2, 3, 4, 5, 6, 7]])"
      ]
     },
     "execution_count": 98,
     "metadata": {},
     "output_type": "execute_result"
    }
   ],
   "source": [
    "xx"
   ]
  },
  {
   "cell_type": "code",
   "execution_count": 99,
   "id": "1bf64dcc-0f6a-4641-8e62-628ff9f3bcb2",
   "metadata": {},
   "outputs": [
    {
     "data": {
      "text/plain": [
       "array([[0, 0, 0, 0, 0, 0, 0, 0],\n",
       "       [1, 1, 1, 1, 1, 1, 1, 1],\n",
       "       [2, 2, 2, 2, 2, 2, 2, 2],\n",
       "       [3, 3, 3, 3, 3, 3, 3, 3],\n",
       "       [4, 4, 4, 4, 4, 4, 4, 4],\n",
       "       [5, 5, 5, 5, 5, 5, 5, 5],\n",
       "       [6, 6, 6, 6, 6, 6, 6, 6],\n",
       "       [7, 7, 7, 7, 7, 7, 7, 7]])"
      ]
     },
     "execution_count": 99,
     "metadata": {},
     "output_type": "execute_result"
    }
   ],
   "source": [
    "yy"
   ]
  },
  {
   "cell_type": "code",
   "execution_count": 95,
   "id": "a9fd5856-9304-49dc-bf1d-4216c7ca128c",
   "metadata": {},
   "outputs": [
    {
     "data": {
      "text/plain": [
       "array([[0, 1, 0, 1, 0, 1, 0, 1],\n",
       "       [1, 0, 1, 0, 1, 0, 1, 0],\n",
       "       [0, 1, 0, 1, 0, 1, 0, 1],\n",
       "       [1, 0, 1, 0, 1, 0, 1, 0],\n",
       "       [0, 1, 0, 1, 0, 1, 0, 1],\n",
       "       [1, 0, 1, 0, 1, 0, 1, 0],\n",
       "       [0, 1, 0, 1, 0, 1, 0, 1],\n",
       "       [1, 0, 1, 0, 1, 0, 1, 0]])"
      ]
     },
     "execution_count": 95,
     "metadata": {},
     "output_type": "execute_result"
    }
   ],
   "source": [
    "(xx + yy) % 2"
   ]
  },
  {
   "cell_type": "code",
   "execution_count": 96,
   "id": "c4ebaefd-22f9-4c48-a1a2-6d3362a0ebef",
   "metadata": {},
   "outputs": [
    {
     "data": {
      "text/plain": [
       "array([['false', 'true', 'false', 'true', 'false', 'true', 'false',\n",
       "        'true'],\n",
       "       ['true', 'false', 'true', 'false', 'true', 'false', 'true',\n",
       "        'false'],\n",
       "       ['false', 'true', 'false', 'true', 'false', 'true', 'false',\n",
       "        'true'],\n",
       "       ['true', 'false', 'true', 'false', 'true', 'false', 'true',\n",
       "        'false'],\n",
       "       ['false', 'true', 'false', 'true', 'false', 'true', 'false',\n",
       "        'true'],\n",
       "       ['true', 'false', 'true', 'false', 'true', 'false', 'true',\n",
       "        'false'],\n",
       "       ['false', 'true', 'false', 'true', 'false', 'true', 'false',\n",
       "        'true'],\n",
       "       ['true', 'false', 'true', 'false', 'true', 'false', 'true',\n",
       "        'false']], dtype='<U5')"
      ]
     },
     "execution_count": 96,
     "metadata": {},
     "output_type": "execute_result"
    }
   ],
   "source": [
    "to_str((xx + yy) % 2)"
   ]
  },
  {
   "cell_type": "code",
   "execution_count": 97,
   "id": "16ffdc88-64bf-46f8-b3aa-c8885b81aa7c",
   "metadata": {},
   "outputs": [
    {
     "data": {
      "text/html": [
       "<style type=\"text/css\">\n",
       "#T_b8c1e .true {\n",
       "  background-color: #e6ffe6;\n",
       "}\n",
       "#T_b8c1e .false {\n",
       "  background-color: #ffe6e6;\n",
       "}\n",
       "</style>\n",
       "<table id=\"T_b8c1e\">\n",
       "  <thead>\n",
       "    <tr>\n",
       "      <th class=\"blank level0\" >&nbsp;</th>\n",
       "      <th id=\"T_b8c1e_level0_col0\" class=\"col_heading level0 col0\" >A</th>\n",
       "      <th id=\"T_b8c1e_level0_col1\" class=\"col_heading level0 col1\" >B</th>\n",
       "      <th id=\"T_b8c1e_level0_col2\" class=\"col_heading level0 col2\" >C</th>\n",
       "      <th id=\"T_b8c1e_level0_col3\" class=\"col_heading level0 col3\" >D</th>\n",
       "      <th id=\"T_b8c1e_level0_col4\" class=\"col_heading level0 col4\" >E</th>\n",
       "      <th id=\"T_b8c1e_level0_col5\" class=\"col_heading level0 col5\" >F</th>\n",
       "      <th id=\"T_b8c1e_level0_col6\" class=\"col_heading level0 col6\" >G</th>\n",
       "      <th id=\"T_b8c1e_level0_col7\" class=\"col_heading level0 col7\" >H</th>\n",
       "    </tr>\n",
       "  </thead>\n",
       "  <tbody>\n",
       "    <tr>\n",
       "      <th id=\"T_b8c1e_level0_row0\" class=\"row_heading level0 row0\" >0</th>\n",
       "      <td id=\"T_b8c1e_row0_col0\" class=\"data row0 col0 false\" >0.000000</td>\n",
       "      <td id=\"T_b8c1e_row0_col1\" class=\"data row0 col1 true\" >0.000000</td>\n",
       "      <td id=\"T_b8c1e_row0_col2\" class=\"data row0 col2 false\" >0.000000</td>\n",
       "      <td id=\"T_b8c1e_row0_col3\" class=\"data row0 col3 true\" >0.000000</td>\n",
       "      <td id=\"T_b8c1e_row0_col4\" class=\"data row0 col4 false\" >0.000000</td>\n",
       "      <td id=\"T_b8c1e_row0_col5\" class=\"data row0 col5 true\" >0.000000</td>\n",
       "      <td id=\"T_b8c1e_row0_col6\" class=\"data row0 col6 false\" >0.000000</td>\n",
       "      <td id=\"T_b8c1e_row0_col7\" class=\"data row0 col7 true\" >0.000000</td>\n",
       "    </tr>\n",
       "    <tr>\n",
       "      <th id=\"T_b8c1e_level0_row1\" class=\"row_heading level0 row1\" >1</th>\n",
       "      <td id=\"T_b8c1e_row1_col0\" class=\"data row1 col0 true\" >0.000000</td>\n",
       "      <td id=\"T_b8c1e_row1_col1\" class=\"data row1 col1 false\" >0.000000</td>\n",
       "      <td id=\"T_b8c1e_row1_col2\" class=\"data row1 col2 true\" >0.000000</td>\n",
       "      <td id=\"T_b8c1e_row1_col3\" class=\"data row1 col3 false\" >0.000000</td>\n",
       "      <td id=\"T_b8c1e_row1_col4\" class=\"data row1 col4 true\" >0.000000</td>\n",
       "      <td id=\"T_b8c1e_row1_col5\" class=\"data row1 col5 false\" >0.000000</td>\n",
       "      <td id=\"T_b8c1e_row1_col6\" class=\"data row1 col6 true\" >0.000000</td>\n",
       "      <td id=\"T_b8c1e_row1_col7\" class=\"data row1 col7 false\" >0.000000</td>\n",
       "    </tr>\n",
       "    <tr>\n",
       "      <th id=\"T_b8c1e_level0_row2\" class=\"row_heading level0 row2\" >2</th>\n",
       "      <td id=\"T_b8c1e_row2_col0\" class=\"data row2 col0 false\" >0.000000</td>\n",
       "      <td id=\"T_b8c1e_row2_col1\" class=\"data row2 col1 true\" >0.000000</td>\n",
       "      <td id=\"T_b8c1e_row2_col2\" class=\"data row2 col2 false\" >0.000000</td>\n",
       "      <td id=\"T_b8c1e_row2_col3\" class=\"data row2 col3 true\" >0.000000</td>\n",
       "      <td id=\"T_b8c1e_row2_col4\" class=\"data row2 col4 false\" >0.000000</td>\n",
       "      <td id=\"T_b8c1e_row2_col5\" class=\"data row2 col5 true\" >0.000000</td>\n",
       "      <td id=\"T_b8c1e_row2_col6\" class=\"data row2 col6 false\" >0.000000</td>\n",
       "      <td id=\"T_b8c1e_row2_col7\" class=\"data row2 col7 true\" >0.000000</td>\n",
       "    </tr>\n",
       "    <tr>\n",
       "      <th id=\"T_b8c1e_level0_row3\" class=\"row_heading level0 row3\" >3</th>\n",
       "      <td id=\"T_b8c1e_row3_col0\" class=\"data row3 col0 true\" >0.000000</td>\n",
       "      <td id=\"T_b8c1e_row3_col1\" class=\"data row3 col1 false\" >0.000000</td>\n",
       "      <td id=\"T_b8c1e_row3_col2\" class=\"data row3 col2 true\" >0.000000</td>\n",
       "      <td id=\"T_b8c1e_row3_col3\" class=\"data row3 col3 false\" >0.000000</td>\n",
       "      <td id=\"T_b8c1e_row3_col4\" class=\"data row3 col4 true\" >0.000000</td>\n",
       "      <td id=\"T_b8c1e_row3_col5\" class=\"data row3 col5 false\" >0.000000</td>\n",
       "      <td id=\"T_b8c1e_row3_col6\" class=\"data row3 col6 true\" >0.000000</td>\n",
       "      <td id=\"T_b8c1e_row3_col7\" class=\"data row3 col7 false\" >0.000000</td>\n",
       "    </tr>\n",
       "    <tr>\n",
       "      <th id=\"T_b8c1e_level0_row4\" class=\"row_heading level0 row4\" >4</th>\n",
       "      <td id=\"T_b8c1e_row4_col0\" class=\"data row4 col0 false\" >0.000000</td>\n",
       "      <td id=\"T_b8c1e_row4_col1\" class=\"data row4 col1 true\" >0.000000</td>\n",
       "      <td id=\"T_b8c1e_row4_col2\" class=\"data row4 col2 false\" >0.000000</td>\n",
       "      <td id=\"T_b8c1e_row4_col3\" class=\"data row4 col3 true\" >0.000000</td>\n",
       "      <td id=\"T_b8c1e_row4_col4\" class=\"data row4 col4 false\" >0.000000</td>\n",
       "      <td id=\"T_b8c1e_row4_col5\" class=\"data row4 col5 true\" >0.000000</td>\n",
       "      <td id=\"T_b8c1e_row4_col6\" class=\"data row4 col6 false\" >0.000000</td>\n",
       "      <td id=\"T_b8c1e_row4_col7\" class=\"data row4 col7 true\" >0.000000</td>\n",
       "    </tr>\n",
       "    <tr>\n",
       "      <th id=\"T_b8c1e_level0_row5\" class=\"row_heading level0 row5\" >5</th>\n",
       "      <td id=\"T_b8c1e_row5_col0\" class=\"data row5 col0 true\" >0.000000</td>\n",
       "      <td id=\"T_b8c1e_row5_col1\" class=\"data row5 col1 false\" >0.000000</td>\n",
       "      <td id=\"T_b8c1e_row5_col2\" class=\"data row5 col2 true\" >0.000000</td>\n",
       "      <td id=\"T_b8c1e_row5_col3\" class=\"data row5 col3 false\" >0.000000</td>\n",
       "      <td id=\"T_b8c1e_row5_col4\" class=\"data row5 col4 true\" >0.000000</td>\n",
       "      <td id=\"T_b8c1e_row5_col5\" class=\"data row5 col5 false\" >0.000000</td>\n",
       "      <td id=\"T_b8c1e_row5_col6\" class=\"data row5 col6 true\" >0.000000</td>\n",
       "      <td id=\"T_b8c1e_row5_col7\" class=\"data row5 col7 false\" >0.000000</td>\n",
       "    </tr>\n",
       "    <tr>\n",
       "      <th id=\"T_b8c1e_level0_row6\" class=\"row_heading level0 row6\" >6</th>\n",
       "      <td id=\"T_b8c1e_row6_col0\" class=\"data row6 col0 false\" >0.000000</td>\n",
       "      <td id=\"T_b8c1e_row6_col1\" class=\"data row6 col1 true\" >0.000000</td>\n",
       "      <td id=\"T_b8c1e_row6_col2\" class=\"data row6 col2 false\" >0.000000</td>\n",
       "      <td id=\"T_b8c1e_row6_col3\" class=\"data row6 col3 true\" >0.000000</td>\n",
       "      <td id=\"T_b8c1e_row6_col4\" class=\"data row6 col4 false\" >0.000000</td>\n",
       "      <td id=\"T_b8c1e_row6_col5\" class=\"data row6 col5 true\" >0.000000</td>\n",
       "      <td id=\"T_b8c1e_row6_col6\" class=\"data row6 col6 false\" >0.000000</td>\n",
       "      <td id=\"T_b8c1e_row6_col7\" class=\"data row6 col7 true\" >0.000000</td>\n",
       "    </tr>\n",
       "    <tr>\n",
       "      <th id=\"T_b8c1e_level0_row7\" class=\"row_heading level0 row7\" >7</th>\n",
       "      <td id=\"T_b8c1e_row7_col0\" class=\"data row7 col0 true\" >0.000000</td>\n",
       "      <td id=\"T_b8c1e_row7_col1\" class=\"data row7 col1 false\" >0.000000</td>\n",
       "      <td id=\"T_b8c1e_row7_col2\" class=\"data row7 col2 true\" >0.000000</td>\n",
       "      <td id=\"T_b8c1e_row7_col3\" class=\"data row7 col3 false\" >0.000000</td>\n",
       "      <td id=\"T_b8c1e_row7_col4\" class=\"data row7 col4 true\" >0.000000</td>\n",
       "      <td id=\"T_b8c1e_row7_col5\" class=\"data row7 col5 false\" >0.000000</td>\n",
       "      <td id=\"T_b8c1e_row7_col6\" class=\"data row7 col6 true\" >0.000000</td>\n",
       "      <td id=\"T_b8c1e_row7_col7\" class=\"data row7 col7 false\" >0.000000</td>\n",
       "    </tr>\n",
       "  </tbody>\n",
       "</table>\n"
      ],
      "text/plain": [
       "<pandas.io.formats.style.Styler at 0x7fe2fcd57340>"
      ]
     },
     "execution_count": 97,
     "metadata": {},
     "output_type": "execute_result"
    }
   ],
   "source": [
    "s.set_td_classes(pd.DataFrame(to_str((xx + yy) % 2), columns=iter(\"ABCDEFGH\")))"
   ]
  },
  {
   "cell_type": "code",
   "execution_count": null,
   "id": "177f5dc6-8d5c-4720-9c2e-2cd89d8cc743",
   "metadata": {},
   "outputs": [],
   "source": []
  }
 ],
 "metadata": {
  "kernelspec": {
   "display_name": "Python 3 (ipykernel)",
   "language": "python",
   "name": "python3"
  },
  "language_info": {
   "codemirror_mode": {
    "name": "ipython",
    "version": 3
   },
   "file_extension": ".py",
   "mimetype": "text/x-python",
   "name": "python",
   "nbconvert_exporter": "python",
   "pygments_lexer": "ipython3",
   "version": "3.8.10"
  }
 },
 "nbformat": 4,
 "nbformat_minor": 5
}
