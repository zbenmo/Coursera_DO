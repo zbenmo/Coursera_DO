{
 "cells": [
  {
   "cell_type": "code",
   "execution_count": 89,
   "id": "d3b9b843-47f8-4aa1-ab0b-0491728d03e3",
   "metadata": {},
   "outputs": [],
   "source": [
    "from collections import Counter\n",
    "from itertools import chain\n",
    "\n",
    "import networkx as nx\n",
    "import matplotlib.pyplot as plt"
   ]
  },
  {
   "cell_type": "code",
   "execution_count": 33,
   "id": "06c71b0b-41c3-4e4b-9351-fdfed3c1a18e",
   "metadata": {},
   "outputs": [],
   "source": [
    "a = [(3, 4), (1, 2), (3, 1), (1, 4)]"
   ]
  },
  {
   "cell_type": "code",
   "execution_count": 34,
   "id": "c4f52751-d111-46c7-93b9-336bd34a1ecb",
   "metadata": {},
   "outputs": [],
   "source": [
    "c = Counter(chain.from_iterable(a))"
   ]
  },
  {
   "cell_type": "code",
   "execution_count": 35,
   "id": "13b48d3a-4d3f-4321-b5be-104d84bf4587",
   "metadata": {},
   "outputs": [
    {
     "data": {
      "text/plain": [
       "(1, 3, 4, 2)"
      ]
     },
     "execution_count": 35,
     "metadata": {},
     "output_type": "execute_result"
    }
   ],
   "source": [
    "next(zip(*c.most_common()))"
   ]
  },
  {
   "cell_type": "code",
   "execution_count": 36,
   "id": "1c7cb368-6a92-49e3-85f9-84ad739e1403",
   "metadata": {},
   "outputs": [
    {
     "data": {
      "text/plain": [
       "tuple"
      ]
     },
     "execution_count": 36,
     "metadata": {},
     "output_type": "execute_result"
    }
   ],
   "source": [
    "type(next(zip(*c.most_common())))"
   ]
  },
  {
   "cell_type": "code",
   "execution_count": 37,
   "id": "403e5a32-dc81-425f-b817-2c8092f04b5e",
   "metadata": {},
   "outputs": [
    {
     "data": {
      "text/plain": [
       "(1, 3, 4, 2)"
      ]
     },
     "execution_count": 37,
     "metadata": {},
     "output_type": "execute_result"
    }
   ],
   "source": [
    "next(zip(*c.most_common()))"
   ]
  },
  {
   "cell_type": "code",
   "execution_count": 38,
   "id": "2c05c627-2e77-4142-8930-a1bd38db5011",
   "metadata": {},
   "outputs": [
    {
     "data": {
      "text/plain": [
       "(1, 3, 4, 2)"
      ]
     },
     "execution_count": 38,
     "metadata": {},
     "output_type": "execute_result"
    }
   ],
   "source": [
    "next(zip(*c.most_common()))"
   ]
  },
  {
   "cell_type": "code",
   "execution_count": 39,
   "id": "0d7a0e29-f016-47ba-b247-57930648ef66",
   "metadata": {},
   "outputs": [],
   "source": [
    "g = nx.Graph(a)"
   ]
  },
  {
   "cell_type": "code",
   "execution_count": 103,
   "id": "eaa3a507-b4e4-473c-88f9-c184e5d81552",
   "metadata": {},
   "outputs": [
    {
     "data": {
      "image/png": "[encoded data removed]",
      "text/plain": [
       "<Figure size 640x480 with 1 Axes>"
      ]
     },
     "metadata": {},
     "output_type": "display_data"
    }
   ],
   "source": [
    "nx.draw_networkx(g, with_labels=True)"
   ]
  },
  {
   "cell_type": "code",
   "execution_count": 41,
   "id": "1b0e4ae2-3324-46e9-b384-205eb9b3dfd3",
   "metadata": {},
   "outputs": [
    {
     "data": {
      "text/plain": [
       "[[3, 4, 1]]"
      ]
     },
     "execution_count": 41,
     "metadata": {},
     "output_type": "execute_result"
    }
   ],
   "source": [
    "list(nx.simple_cycles(g, 3))"
   ]
  },
  {
   "cell_type": "code",
   "execution_count": 81,
   "id": "cd572ff2-4510-4fcb-b9e0-3b9bad86596f",
   "metadata": {},
   "outputs": [
    {
     "data": {
      "text/plain": [
       "[1, 3, 4, 2]"
      ]
     },
     "execution_count": 81,
     "metadata": {},
     "output_type": "execute_result"
    }
   ],
   "source": [
    "[x for x, _ in sorted(g.degree(), key=lambda ele: ele[1], reverse=True)]"
   ]
  },
  {
   "cell_type": "code",
   "execution_count": 57,
   "id": "19ddd7f7-3889-4def-a76a-760a3bc98e9b",
   "metadata": {},
   "outputs": [
    {
     "data": {
      "text/plain": [
       "NodeView((3, 4, 1, 2))"
      ]
     },
     "execution_count": 57,
     "metadata": {},
     "output_type": "execute_result"
    }
   ],
   "source": [
    "g.nodes"
   ]
  },
  {
   "cell_type": "code",
   "execution_count": 59,
   "id": "fdacb3e5-9de5-463c-af12-4964524066a5",
   "metadata": {},
   "outputs": [
    {
     "data": {
      "text/plain": [
       "DegreeView({3: 2, 4: 2, 1: 3, 2: 1})"
      ]
     },
     "execution_count": 59,
     "metadata": {},
     "output_type": "execute_result"
    }
   ],
   "source": [
    "g.degree(g.nodes)"
   ]
  },
  {
   "cell_type": "code",
   "execution_count": 79,
   "id": "886217da-b837-4126-8d67-8a5eb0e64320",
   "metadata": {},
   "outputs": [
    {
     "data": {
      "text/plain": [
       "2"
      ]
     },
     "execution_count": 79,
     "metadata": {},
     "output_type": "execute_result"
    }
   ],
   "source": [
    "(1, 2).__getitem__(1)"
   ]
  },
  {
   "cell_type": "code",
   "execution_count": 85,
   "id": "5b0f83c8-bf33-40ae-a61b-f20365654deb",
   "metadata": {},
   "outputs": [
    {
     "data": {
      "text/plain": [
       "[[1, 3, 4]]"
      ]
     },
     "execution_count": 85,
     "metadata": {},
     "output_type": "execute_result"
    }
   ],
   "source": [
    "list(c for c in nx.find_cliques(g) if len(c) > 2)"
   ]
  },
  {
   "cell_type": "code",
   "execution_count": null,
   "id": "96a7bbbe-a013-46e4-8883-397cf85c2f6f",
   "metadata": {},
   "outputs": [],
   "source": []
  }
 ],
 "metadata": {
  "kernelspec": {
   "display_name": "Python 3 (ipykernel)",
   "language": "python",
   "name": "python3"
  },
  "language_info": {
   "codemirror_mode": {
    "name": "ipython",
    "version": 3
   },
   "file_extension": ".py",
   "mimetype": "text/x-python",
   "name": "python",
   "nbconvert_exporter": "python",
   "pygments_lexer": "ipython3",
   "version": "3.8.10"
  }
 },
 "nbformat": 4,
 "nbformat_minor": 5
}
