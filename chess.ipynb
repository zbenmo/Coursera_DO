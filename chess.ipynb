{
 "cells": [
  {
   "cell_type": "code",
   "execution_count": 1,
   "id": "60d7f017-fd96-47a3-856b-0dbc39cd8b87",
   "metadata": {},
   "outputs": [],
   "source": [
    "import cpmpy\n",
    "import numpy as np"
   ]
  },
  {
   "cell_type": "code",
   "execution_count": 2,
   "id": "d202df93-fe97-415f-80e0-48923e63410f",
   "metadata": {},
   "outputs": [],
   "source": [
    "model = cpmpy.Model()"
   ]
  },
  {
   "cell_type": "code",
   "execution_count": 3,
   "id": "37adee20-0d61-4550-a66b-fe91c8e75687",
   "metadata": {},
   "outputs": [],
   "source": [
    "gr, bl, og, ye, gy = cpmpy.boolvar(shape=5)"
   ]
  },
  {
   "cell_type": "code",
   "execution_count": 4,
   "id": "84b54051-cb23-40d9-8cd5-91b1ac6c9ff8",
   "metadata": {},
   "outputs": [],
   "source": [
    "model += (12*gr + 2*bl + 1*og + 4*ye + 1*gy <= 15)"
   ]
  },
  {
   "cell_type": "code",
   "execution_count": 5,
   "id": "01b270cd-0edc-418d-a006-57570728598d",
   "metadata": {},
   "outputs": [],
   "source": [
    "model.maximize(4*gr + 2*bl + 1*og + 10*ye + 2*gy)"
   ]
  },
  {
   "cell_type": "code",
   "execution_count": 6,
   "id": "5cb58cff-dfca-42ea-8d93-888438c46685",
   "metadata": {},
   "outputs": [
    {
     "data": {
      "text/plain": [
       "True"
      ]
     },
     "execution_count": 6,
     "metadata": {},
     "output_type": "execute_result"
    }
   ],
   "source": [
    "model.solve()"
   ]
  },
  {
   "cell_type": "code",
   "execution_count": 7,
   "id": "2ba5bb3c-c565-4981-81a8-4e22fecb4861",
   "metadata": {},
   "outputs": [
    {
     "data": {
      "text/plain": [
       "[(BV0, False), (BV1, True), (BV2, True), (BV3, True), (BV4, True)]"
      ]
     },
     "execution_count": 7,
     "metadata": {},
     "output_type": "execute_result"
    }
   ],
   "source": [
    "[(x, x.value()) for x in (gr, bl, og, ye, gy)]"
   ]
  },
  {
   "cell_type": "code",
   "execution_count": 8,
   "id": "0827163d-082b-4ea6-ae1c-633d9aea64a9",
   "metadata": {},
   "outputs": [
    {
     "data": {
      "text/plain": [
       "sum([4, 2, 1, 10, 2] * [BV0, BV1, BV2, BV3, BV4])"
      ]
     },
     "execution_count": 8,
     "metadata": {},
     "output_type": "execute_result"
    }
   ],
   "source": [
    "4*gr + 2*bl + 1*og + 10*ye + 2*gy"
   ]
  },
  {
   "cell_type": "code",
   "execution_count": 9,
   "id": "ef65d747-a7c8-4673-9ee5-dc92147eb782",
   "metadata": {},
   "outputs": [
    {
     "data": {
      "text/plain": [
       "15"
      ]
     },
     "execution_count": 9,
     "metadata": {},
     "output_type": "execute_result"
    }
   ],
   "source": [
    "4*0 + 2*1 + 1*1 + 10*1 + 2*1"
   ]
  },
  {
   "cell_type": "code",
   "execution_count": 10,
   "id": "c1d69c9a-f95e-4c5e-8527-4924adf73ef4",
   "metadata": {},
   "outputs": [],
   "source": [
    "arr = np.empty(shape=(4,))"
   ]
  },
  {
   "cell_type": "code",
   "execution_count": 11,
   "id": "2651cab4-65a4-4d58-8ec5-a82092f354ab",
   "metadata": {},
   "outputs": [],
   "source": [
    "a, *_, d = arr"
   ]
  },
  {
   "cell_type": "code",
   "execution_count": 12,
   "id": "e067e30b-0fb4-4bdb-b6bc-d7285aa71bbe",
   "metadata": {},
   "outputs": [
    {
     "data": {
      "text/plain": [
       "numpy.ndarray"
      ]
     },
     "execution_count": 12,
     "metadata": {},
     "output_type": "execute_result"
    }
   ],
   "source": [
    "type(arr)"
   ]
  },
  {
   "cell_type": "code",
   "execution_count": null,
   "id": "5918b501-ff11-42e0-8293-dd37ccb8e75e",
   "metadata": {},
   "outputs": [],
   "source": []
  },
  {
   "cell_type": "code",
   "execution_count": 13,
   "id": "32e72849-d753-4c7a-befb-55ca92dd9abc",
   "metadata": {},
   "outputs": [],
   "source": [
    "xx, yy = np.meshgrid(range(8), range(0, 8))"
   ]
  },
  {
   "cell_type": "code",
   "execution_count": 14,
   "id": "9891e3a0-2dba-4628-a1a2-b52842369647",
   "metadata": {},
   "outputs": [
    {
     "name": "stdout",
     "output_type": "stream",
     "text": [
      "[[0 1 2 3 4 5 6 7]\n",
      " [0 1 2 3 4 5 6 7]\n",
      " [0 1 2 3 4 5 6 7]\n",
      " [0 1 2 3 4 5 6 7]\n",
      " [0 1 2 3 4 5 6 7]\n",
      " [0 1 2 3 4 5 6 7]\n",
      " [0 1 2 3 4 5 6 7]\n",
      " [0 1 2 3 4 5 6 7]]\n",
      "\n",
      "[[0 0 0 0 0 0 0 0]\n",
      " [1 1 1 1 1 1 1 1]\n",
      " [2 2 2 2 2 2 2 2]\n",
      " [3 3 3 3 3 3 3 3]\n",
      " [4 4 4 4 4 4 4 4]\n",
      " [5 5 5 5 5 5 5 5]\n",
      " [6 6 6 6 6 6 6 6]\n",
      " [7 7 7 7 7 7 7 7]]\n"
     ]
    }
   ],
   "source": [
    "print(xx, yy, sep='\\n\\n')"
   ]
  },
  {
   "cell_type": "code",
   "execution_count": 15,
   "id": "f794398a-6570-402c-b850-443e0f9d8e3b",
   "metadata": {},
   "outputs": [
    {
     "data": {
      "text/plain": [
       "array([[0, 1, 0, 1, 0, 1, 0, 1],\n",
       "       [1, 0, 1, 0, 1, 0, 1, 0],\n",
       "       [0, 1, 0, 1, 0, 1, 0, 1],\n",
       "       [1, 0, 1, 0, 1, 0, 1, 0],\n",
       "       [0, 1, 0, 1, 0, 1, 0, 1],\n",
       "       [1, 0, 1, 0, 1, 0, 1, 0],\n",
       "       [0, 1, 0, 1, 0, 1, 0, 1],\n",
       "       [1, 0, 1, 0, 1, 0, 1, 0]])"
      ]
     },
     "execution_count": 15,
     "metadata": {},
     "output_type": "execute_result"
    }
   ],
   "source": [
    "(xx + yy) % 2"
   ]
  },
  {
   "cell_type": "code",
   "execution_count": 16,
   "id": "4e22d93d-1845-4fe2-920e-7ded2a960b46",
   "metadata": {},
   "outputs": [],
   "source": [
    "import matplotlib.pyplot as plt"
   ]
  },
  {
   "cell_type": "code",
   "execution_count": 17,
   "id": "17d4244e-bf7d-4601-ac7b-bfc4d0d2874e",
   "metadata": {},
   "outputs": [
    {
     "data": {
      "text/plain": [
       "<matplotlib.image.AxesImage at 0x7f8ce77e02b0>"
      ]
     },
     "execution_count": 17,
     "metadata": {},
     "output_type": "execute_result"
    },
    {
     "data": {
      "image/png": "[encoded data removed]",
      "text/plain": [
       "<Figure size 480x480 with 1 Axes>"
      ]
     },
     "metadata": {},
     "output_type": "display_data"
    }
   ],
   "source": [
    "plt.matshow((xx + yy) % 2)"
   ]
  },
  {
   "cell_type": "code",
   "execution_count": 18,
   "id": "99b35958-8d27-41bd-9492-2099815b5541",
   "metadata": {},
   "outputs": [
    {
     "data": {
      "text/plain": [
       "array([['white', 'black', 'white', 'black', 'white', 'black', 'white', 'black'],\n",
       "       ['black', 'white', 'black', 'white', 'black', 'white', 'black', 'white'],\n",
       "       ['white', 'black', 'white', 'black', 'white', 'black', 'white', 'black'],\n",
       "       ['black', 'white', 'black', 'white', 'black', 'white', 'black', 'white'],\n",
       "       ['white', 'black', 'white', 'black', 'white', 'black', 'white', 'black'],\n",
       "       ['black', 'white', 'black', 'white', 'black', 'white', 'black', 'white'],\n",
       "       ['white', 'black', 'white', 'black', 'white', 'black', 'white', 'black'],\n",
       "       ['black', 'white', 'black', 'white', 'black', 'white', 'black', 'white']], dtype='<U5')"
      ]
     },
     "execution_count": 18,
     "metadata": {},
     "output_type": "execute_result"
    }
   ],
   "source": [
    "large_width = 400; np.set_printoptions(linewidth=large_width)\n",
    "\n",
    "np.array(['white', 'black'])[(xx + yy) % 2]"
   ]
  },
  {
   "cell_type": "code",
   "execution_count": 19,
   "id": "2680821a-1286-451a-b620-80adaa84daad",
   "metadata": {},
   "outputs": [],
   "source": [
    "import pandas as pd"
   ]
  },
  {
   "cell_type": "code",
   "execution_count": 20,
   "id": "af3f9bf1-70fe-42fe-99ea-ee6e1576597a",
   "metadata": {},
   "outputs": [],
   "source": [
    "df = pd.DataFrame(np.random.randn(8, 8))"
   ]
  },
  {
   "cell_type": "code",
   "execution_count": 21,
   "id": "b18b7d62-d690-4f55-b239-e53bce105546",
   "metadata": {},
   "outputs": [
    {
     "data": {
      "text/html": [
       "<div>\n",
       "<style scoped>\n",
       "    .dataframe tbody tr th:only-of-type {\n",
       "        vertical-align: middle;\n",
       "    }\n",
       "\n",
       "    .dataframe tbody tr th {\n",
       "        vertical-align: top;\n",
       "    }\n",
       "\n",
       "    .dataframe thead th {\n",
       "        text-align: right;\n",
       "    }\n",
       "</style>\n",
       "<table border=\"1\" class=\"dataframe\">\n",
       "  <thead>\n",
       "    <tr style=\"text-align: right;\">\n",
       "      <th></th>\n",
       "      <th>0</th>\n",
       "      <th>1</th>\n",
       "      <th>2</th>\n",
       "      <th>3</th>\n",
       "      <th>4</th>\n",
       "      <th>5</th>\n",
       "      <th>6</th>\n",
       "      <th>7</th>\n",
       "    </tr>\n",
       "  </thead>\n",
       "  <tbody>\n",
       "    <tr>\n",
       "      <th>0</th>\n",
       "      <td>-0.232555</td>\n",
       "      <td>-0.679585</td>\n",
       "      <td>0.120105</td>\n",
       "      <td>-0.371771</td>\n",
       "      <td>1.012573</td>\n",
       "      <td>0.906672</td>\n",
       "      <td>-0.716804</td>\n",
       "      <td>-1.261733</td>\n",
       "    </tr>\n",
       "    <tr>\n",
       "      <th>1</th>\n",
       "      <td>0.440619</td>\n",
       "      <td>-0.399378</td>\n",
       "      <td>0.565733</td>\n",
       "      <td>0.306880</td>\n",
       "      <td>1.688217</td>\n",
       "      <td>0.455490</td>\n",
       "      <td>0.591708</td>\n",
       "      <td>-0.270563</td>\n",
       "    </tr>\n",
       "    <tr>\n",
       "      <th>2</th>\n",
       "      <td>-0.887351</td>\n",
       "      <td>-0.483143</td>\n",
       "      <td>-0.645584</td>\n",
       "      <td>0.392101</td>\n",
       "      <td>-0.361919</td>\n",
       "      <td>1.706224</td>\n",
       "      <td>0.721188</td>\n",
       "      <td>0.171864</td>\n",
       "    </tr>\n",
       "    <tr>\n",
       "      <th>3</th>\n",
       "      <td>0.024381</td>\n",
       "      <td>1.558929</td>\n",
       "      <td>0.611986</td>\n",
       "      <td>0.132801</td>\n",
       "      <td>2.544278</td>\n",
       "      <td>-0.610758</td>\n",
       "      <td>-0.207819</td>\n",
       "      <td>1.492136</td>\n",
       "    </tr>\n",
       "    <tr>\n",
       "      <th>4</th>\n",
       "      <td>0.825635</td>\n",
       "      <td>-0.926717</td>\n",
       "      <td>-1.761719</td>\n",
       "      <td>-0.438814</td>\n",
       "      <td>0.016741</td>\n",
       "      <td>0.362230</td>\n",
       "      <td>-0.288295</td>\n",
       "      <td>0.527091</td>\n",
       "    </tr>\n",
       "  </tbody>\n",
       "</table>\n",
       "</div>"
      ],
      "text/plain": [
       "          0         1         2         3         4         5         6  \\\n",
       "0 -0.232555 -0.679585  0.120105 -0.371771  1.012573  0.906672 -0.716804   \n",
       "1  0.440619 -0.399378  0.565733  0.306880  1.688217  0.455490  0.591708   \n",
       "2 -0.887351 -0.483143 -0.645584  0.392101 -0.361919  1.706224  0.721188   \n",
       "3  0.024381  1.558929  0.611986  0.132801  2.544278 -0.610758 -0.207819   \n",
       "4  0.825635 -0.926717 -1.761719 -0.438814  0.016741  0.362230 -0.288295   \n",
       "\n",
       "          7  \n",
       "0 -1.261733  \n",
       "1 -0.270563  \n",
       "2  0.171864  \n",
       "3  1.492136  \n",
       "4  0.527091  "
      ]
     },
     "execution_count": 21,
     "metadata": {},
     "output_type": "execute_result"
    }
   ],
   "source": [
    "df.head()"
   ]
  },
  {
   "cell_type": "code",
   "execution_count": 22,
   "id": "d9b8965d-ad85-4311-b3b5-c3ef17886834",
   "metadata": {},
   "outputs": [
    {
     "data": {
      "text/html": [
       "<style type=\"text/css\">\n",
       "</style>\n",
       "<table id=\"T_b3fc8\">\n",
       "  <thead>\n",
       "    <tr>\n",
       "      <th class=\"blank level0\" >&nbsp;</th>\n",
       "      <th id=\"T_b3fc8_level0_col0\" class=\"col_heading level0 col0\" >0</th>\n",
       "      <th id=\"T_b3fc8_level0_col1\" class=\"col_heading level0 col1\" >1</th>\n",
       "      <th id=\"T_b3fc8_level0_col2\" class=\"col_heading level0 col2\" >2</th>\n",
       "      <th id=\"T_b3fc8_level0_col3\" class=\"col_heading level0 col3\" >3</th>\n",
       "      <th id=\"T_b3fc8_level0_col4\" class=\"col_heading level0 col4\" >4</th>\n",
       "      <th id=\"T_b3fc8_level0_col5\" class=\"col_heading level0 col5\" >5</th>\n",
       "      <th id=\"T_b3fc8_level0_col6\" class=\"col_heading level0 col6\" >6</th>\n",
       "      <th id=\"T_b3fc8_level0_col7\" class=\"col_heading level0 col7\" >7</th>\n",
       "    </tr>\n",
       "  </thead>\n",
       "  <tbody>\n",
       "    <tr>\n",
       "      <th id=\"T_b3fc8_level0_row0\" class=\"row_heading level0 row0\" >0</th>\n",
       "      <td id=\"T_b3fc8_row0_col0\" class=\"data row0 col0 white\" >-0.232555</td>\n",
       "      <td id=\"T_b3fc8_row0_col1\" class=\"data row0 col1 black\" >-0.679585</td>\n",
       "      <td id=\"T_b3fc8_row0_col2\" class=\"data row0 col2 white\" >0.120105</td>\n",
       "      <td id=\"T_b3fc8_row0_col3\" class=\"data row0 col3 black\" >-0.371771</td>\n",
       "      <td id=\"T_b3fc8_row0_col4\" class=\"data row0 col4 white\" >1.012573</td>\n",
       "      <td id=\"T_b3fc8_row0_col5\" class=\"data row0 col5 black\" >0.906672</td>\n",
       "      <td id=\"T_b3fc8_row0_col6\" class=\"data row0 col6 white\" >-0.716804</td>\n",
       "      <td id=\"T_b3fc8_row0_col7\" class=\"data row0 col7 black\" >-1.261733</td>\n",
       "    </tr>\n",
       "    <tr>\n",
       "      <th id=\"T_b3fc8_level0_row1\" class=\"row_heading level0 row1\" >1</th>\n",
       "      <td id=\"T_b3fc8_row1_col0\" class=\"data row1 col0 black\" >0.440619</td>\n",
       "      <td id=\"T_b3fc8_row1_col1\" class=\"data row1 col1 white\" >-0.399378</td>\n",
       "      <td id=\"T_b3fc8_row1_col2\" class=\"data row1 col2 black\" >0.565733</td>\n",
       "      <td id=\"T_b3fc8_row1_col3\" class=\"data row1 col3 white\" >0.306880</td>\n",
       "      <td id=\"T_b3fc8_row1_col4\" class=\"data row1 col4 black\" >1.688217</td>\n",
       "      <td id=\"T_b3fc8_row1_col5\" class=\"data row1 col5 white\" >0.455490</td>\n",
       "      <td id=\"T_b3fc8_row1_col6\" class=\"data row1 col6 black\" >0.591708</td>\n",
       "      <td id=\"T_b3fc8_row1_col7\" class=\"data row1 col7 white\" >-0.270563</td>\n",
       "    </tr>\n",
       "    <tr>\n",
       "      <th id=\"T_b3fc8_level0_row2\" class=\"row_heading level0 row2\" >2</th>\n",
       "      <td id=\"T_b3fc8_row2_col0\" class=\"data row2 col0 white\" >-0.887351</td>\n",
       "      <td id=\"T_b3fc8_row2_col1\" class=\"data row2 col1 black\" >-0.483143</td>\n",
       "      <td id=\"T_b3fc8_row2_col2\" class=\"data row2 col2 white\" >-0.645584</td>\n",
       "      <td id=\"T_b3fc8_row2_col3\" class=\"data row2 col3 black\" >0.392101</td>\n",
       "      <td id=\"T_b3fc8_row2_col4\" class=\"data row2 col4 white\" >-0.361919</td>\n",
       "      <td id=\"T_b3fc8_row2_col5\" class=\"data row2 col5 black\" >1.706224</td>\n",
       "      <td id=\"T_b3fc8_row2_col6\" class=\"data row2 col6 white\" >0.721188</td>\n",
       "      <td id=\"T_b3fc8_row2_col7\" class=\"data row2 col7 black\" >0.171864</td>\n",
       "    </tr>\n",
       "    <tr>\n",
       "      <th id=\"T_b3fc8_level0_row3\" class=\"row_heading level0 row3\" >3</th>\n",
       "      <td id=\"T_b3fc8_row3_col0\" class=\"data row3 col0 black\" >0.024381</td>\n",
       "      <td id=\"T_b3fc8_row3_col1\" class=\"data row3 col1 white\" >1.558929</td>\n",
       "      <td id=\"T_b3fc8_row3_col2\" class=\"data row3 col2 black\" >0.611986</td>\n",
       "      <td id=\"T_b3fc8_row3_col3\" class=\"data row3 col3 white\" >0.132801</td>\n",
       "      <td id=\"T_b3fc8_row3_col4\" class=\"data row3 col4 black\" >2.544278</td>\n",
       "      <td id=\"T_b3fc8_row3_col5\" class=\"data row3 col5 white\" >-0.610758</td>\n",
       "      <td id=\"T_b3fc8_row3_col6\" class=\"data row3 col6 black\" >-0.207819</td>\n",
       "      <td id=\"T_b3fc8_row3_col7\" class=\"data row3 col7 white\" >1.492136</td>\n",
       "    </tr>\n",
       "    <tr>\n",
       "      <th id=\"T_b3fc8_level0_row4\" class=\"row_heading level0 row4\" >4</th>\n",
       "      <td id=\"T_b3fc8_row4_col0\" class=\"data row4 col0 white\" >0.825635</td>\n",
       "      <td id=\"T_b3fc8_row4_col1\" class=\"data row4 col1 black\" >-0.926717</td>\n",
       "      <td id=\"T_b3fc8_row4_col2\" class=\"data row4 col2 white\" >-1.761719</td>\n",
       "      <td id=\"T_b3fc8_row4_col3\" class=\"data row4 col3 black\" >-0.438814</td>\n",
       "      <td id=\"T_b3fc8_row4_col4\" class=\"data row4 col4 white\" >0.016741</td>\n",
       "      <td id=\"T_b3fc8_row4_col5\" class=\"data row4 col5 black\" >0.362230</td>\n",
       "      <td id=\"T_b3fc8_row4_col6\" class=\"data row4 col6 white\" >-0.288295</td>\n",
       "      <td id=\"T_b3fc8_row4_col7\" class=\"data row4 col7 black\" >0.527091</td>\n",
       "    </tr>\n",
       "    <tr>\n",
       "      <th id=\"T_b3fc8_level0_row5\" class=\"row_heading level0 row5\" >5</th>\n",
       "      <td id=\"T_b3fc8_row5_col0\" class=\"data row5 col0 black\" >-0.410962</td>\n",
       "      <td id=\"T_b3fc8_row5_col1\" class=\"data row5 col1 white\" >1.350331</td>\n",
       "      <td id=\"T_b3fc8_row5_col2\" class=\"data row5 col2 black\" >0.276460</td>\n",
       "      <td id=\"T_b3fc8_row5_col3\" class=\"data row5 col3 white\" >1.377615</td>\n",
       "      <td id=\"T_b3fc8_row5_col4\" class=\"data row5 col4 black\" >-0.220266</td>\n",
       "      <td id=\"T_b3fc8_row5_col5\" class=\"data row5 col5 white\" >-0.173377</td>\n",
       "      <td id=\"T_b3fc8_row5_col6\" class=\"data row5 col6 black\" >-0.883196</td>\n",
       "      <td id=\"T_b3fc8_row5_col7\" class=\"data row5 col7 white\" >-0.210873</td>\n",
       "    </tr>\n",
       "    <tr>\n",
       "      <th id=\"T_b3fc8_level0_row6\" class=\"row_heading level0 row6\" >6</th>\n",
       "      <td id=\"T_b3fc8_row6_col0\" class=\"data row6 col0 white\" >0.193306</td>\n",
       "      <td id=\"T_b3fc8_row6_col1\" class=\"data row6 col1 black\" >-0.107041</td>\n",
       "      <td id=\"T_b3fc8_row6_col2\" class=\"data row6 col2 white\" >-1.292377</td>\n",
       "      <td id=\"T_b3fc8_row6_col3\" class=\"data row6 col3 black\" >-0.146828</td>\n",
       "      <td id=\"T_b3fc8_row6_col4\" class=\"data row6 col4 white\" >0.036900</td>\n",
       "      <td id=\"T_b3fc8_row6_col5\" class=\"data row6 col5 black\" >-0.298859</td>\n",
       "      <td id=\"T_b3fc8_row6_col6\" class=\"data row6 col6 white\" >-1.004699</td>\n",
       "      <td id=\"T_b3fc8_row6_col7\" class=\"data row6 col7 black\" >0.954185</td>\n",
       "    </tr>\n",
       "    <tr>\n",
       "      <th id=\"T_b3fc8_level0_row7\" class=\"row_heading level0 row7\" >7</th>\n",
       "      <td id=\"T_b3fc8_row7_col0\" class=\"data row7 col0 black\" >0.087828</td>\n",
       "      <td id=\"T_b3fc8_row7_col1\" class=\"data row7 col1 white\" >-0.856414</td>\n",
       "      <td id=\"T_b3fc8_row7_col2\" class=\"data row7 col2 black\" >0.309127</td>\n",
       "      <td id=\"T_b3fc8_row7_col3\" class=\"data row7 col3 white\" >0.869940</td>\n",
       "      <td id=\"T_b3fc8_row7_col4\" class=\"data row7 col4 black\" >-0.045842</td>\n",
       "      <td id=\"T_b3fc8_row7_col5\" class=\"data row7 col5 white\" >-1.372403</td>\n",
       "      <td id=\"T_b3fc8_row7_col6\" class=\"data row7 col6 black\" >1.698357</td>\n",
       "      <td id=\"T_b3fc8_row7_col7\" class=\"data row7 col7 white\" >-0.647277</td>\n",
       "    </tr>\n",
       "  </tbody>\n",
       "</table>\n"
      ],
      "text/plain": [
       "<pandas.io.formats.style.Styler at 0x7f8cd576e1c0>"
      ]
     },
     "execution_count": 22,
     "metadata": {},
     "output_type": "execute_result"
    }
   ],
   "source": [
    "df.style.set_td_classes(pd.DataFrame(np.array(['white', 'black'])[(xx + yy) % 2]))"
   ]
  },
  {
   "cell_type": "code",
   "execution_count": 23,
   "id": "7cfb23db-ec3f-417b-a7ff-9b0d687a467d",
   "metadata": {},
   "outputs": [
    {
     "data": {
      "text/html": [
       "\n",
       "<style>\n",
       ".white {\n",
       "    background: pink;\n",
       "}\n",
       "\n",
       ".black {\n",
       "    background: lightgreen;\n",
       "}\n",
       "</style>\n"
      ],
      "text/plain": [
       "<IPython.core.display.HTML object>"
      ]
     },
     "metadata": {},
     "output_type": "display_data"
    }
   ],
   "source": [
    "%%html\n",
    "\n",
    "<style>\n",
    ".white {\n",
    "    background: pink;\n",
    "}\n",
    "\n",
    ".black {\n",
    "    background: lightgreen;\n",
    "}\n",
    "</style>"
   ]
  },
  {
   "cell_type": "code",
   "execution_count": 36,
   "id": "8358eec1-7f8f-41e0-97e6-acb23a728c8d",
   "metadata": {},
   "outputs": [],
   "source": [
    "matsmat = np.array([[[1, 2], [3, 4]], np.zeros((2, 2))])[np.array([0, 0, 0, 1]).reshape(2, 2)] # [(xx + yy) % 2]"
   ]
  },
  {
   "cell_type": "code",
   "execution_count": 70,
   "id": "15106b66-3127-4b0a-84ad-9dd9a1a097bc",
   "metadata": {},
   "outputs": [
    {
     "data": {
      "text/plain": [
       "array([[1., 2., 1., 2.],\n",
       "       [3., 4., 3., 4.],\n",
       "       [1., 2., 0., 0.],\n",
       "       [3., 4., 0., 0.]])"
      ]
     },
     "execution_count": 70,
     "metadata": {},
     "output_type": "execute_result"
    }
   ],
   "source": [
    "matsmat.transpose(0, 2, 1, 3).reshape(4, 4)"
   ]
  },
  {
   "cell_type": "code",
   "execution_count": 52,
   "id": "80fc3541-563a-4615-970e-c3e7cb1e18dd",
   "metadata": {},
   "outputs": [
    {
     "data": {
      "text/plain": [
       "array([[[1., 2.],\n",
       "        [3., 4.]],\n",
       "\n",
       "       [[0., 0.],\n",
       "        [0., 0.]]])"
      ]
     },
     "execution_count": 52,
     "metadata": {},
     "output_type": "execute_result"
    }
   ],
   "source": [
    "matsmat[1]"
   ]
  },
  {
   "cell_type": "code",
   "execution_count": null,
   "id": "6ebf5e0c-4ad1-47e7-b127-c88459e7bd25",
   "metadata": {},
   "outputs": [],
   "source": []
  }
 ],
 "metadata": {
  "kernelspec": {
   "display_name": "Python 3 (ipykernel)",
   "language": "python",
   "name": "python3"
  },
  "language_info": {
   "codemirror_mode": {
    "name": "ipython",
    "version": 3
   },
   "file_extension": ".py",
   "mimetype": "text/x-python",
   "name": "python",
   "nbconvert_exporter": "python",
   "pygments_lexer": "ipython3",
   "version": "3.8.10"
  }
 },
 "nbformat": 4,
 "nbformat_minor": 5
}
